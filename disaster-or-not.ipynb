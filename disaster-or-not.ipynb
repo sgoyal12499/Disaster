{
 "cells": [
  {
   "cell_type": "code",
   "execution_count": 1,
   "metadata": {
    "_cell_guid": "b1076dfc-b9ad-4769-8c92-a6c4dae69d19",
    "_uuid": "8f2839f25d086af736a60e9eeb907d3b93b6e0e5",
    "execution": {
     "iopub.execute_input": "2020-11-29T07:40:59.688452Z",
     "iopub.status.busy": "2020-11-29T07:40:59.687490Z",
     "iopub.status.idle": "2020-11-29T07:40:59.695634Z",
     "shell.execute_reply": "2020-11-29T07:40:59.694843Z"
    },
    "papermill": {
     "duration": 0.073832,
     "end_time": "2020-11-29T07:40:59.695760",
     "exception": false,
     "start_time": "2020-11-29T07:40:59.621928",
     "status": "completed"
    },
    "tags": []
   },
   "outputs": [
    {
     "name": "stdout",
     "output_type": "stream",
     "text": [
      "/kaggle/input/nlp-getting-started/test.csv\n",
      "/kaggle/input/nlp-getting-started/sample_submission.csv\n",
      "/kaggle/input/nlp-getting-started/train.csv\n",
      "/kaggle/input/glove-global-vectors-for-word-representation/glove.6B.50d.txt\n",
      "/kaggle/input/glove-global-vectors-for-word-representation/glove.6B.100d.txt\n",
      "/kaggle/input/glove-global-vectors-for-word-representation/glove.6B.200d.txt\n"
     ]
    }
   ],
   "source": [
    "# This Python 3 environment comes with many helpful analytics libraries installed\n",
    "# It is defined by the kaggle/python Docker image: https://github.com/kaggle/docker-python\n",
    "# For example, here's several helpful packages to load\n",
    "\n",
    "import numpy as np # linear algebra\n",
    "import pandas as pd # data processing, CSV file I/O (e.g. pd.read_csv)\n",
    "\n",
    "# Input data files are available in the read-only \"../input/\" directory\n",
    "# For example, running this (by clicking run or pressing Shift+Enter) will list all files under the input directory\n",
    "\n",
    "import os\n",
    "for dirname, _, filenames in os.walk('/kaggle/input'):\n",
    "    for filename in filenames:\n",
    "        print(os.path.join(dirname, filename))\n",
    "\n",
    "# You can write up to 5GB to the current directory (/kaggle/working/) that gets preserved as output when you create a version using \"Save & Run All\" \n",
    "# You can also write temporary files to /kaggle/temp/, but they won't be saved outside of the current session"
   ]
  },
  {
   "cell_type": "markdown",
   "metadata": {
    "papermill": {
     "duration": 0.053829,
     "end_time": "2020-11-29T07:40:59.805504",
     "exception": false,
     "start_time": "2020-11-29T07:40:59.751675",
     "status": "completed"
    },
    "tags": []
   },
   "source": [
    "## Importing Libraries"
   ]
  },
  {
   "cell_type": "code",
   "execution_count": 2,
   "metadata": {
    "_cell_guid": "79c7e3d0-c299-4dcb-8224-4455121ee9b0",
    "_uuid": "d629ff2d2480ee46fbb7e2d37f6b5fab8052498a",
    "execution": {
     "iopub.execute_input": "2020-11-29T07:40:59.924991Z",
     "iopub.status.busy": "2020-11-29T07:40:59.922172Z",
     "iopub.status.idle": "2020-11-29T07:41:07.759777Z",
     "shell.execute_reply": "2020-11-29T07:41:07.758955Z"
    },
    "papermill": {
     "duration": 7.900325,
     "end_time": "2020-11-29T07:41:07.759910",
     "exception": false,
     "start_time": "2020-11-29T07:40:59.859585",
     "status": "completed"
    },
    "tags": []
   },
   "outputs": [],
   "source": [
    "import pandas as pd\n",
    "import matplotlib.pyplot as plt\n",
    "import seaborn as sns\n",
    "import numpy as np\n",
    "from nltk.corpus import stopwords\n",
    "from nltk.util import ngrams\n",
    "from sklearn.feature_extraction.text import CountVectorizer\n",
    "from collections import defaultdict\n",
    "from collections import  Counter\n",
    "plt.style.use('ggplot')\n",
    "stop=set(stopwords.words('english'))\n",
    "import re\n",
    "from nltk.tokenize import word_tokenize\n",
    "import gensim\n",
    "import string\n",
    "from keras.preprocessing.text import Tokenizer\n",
    "from keras.preprocessing.sequence import pad_sequences\n",
    "from tqdm import tqdm\n",
    "from keras.models import Sequential\n",
    "from keras.layers import Embedding,LSTM,Dense,SpatialDropout1D,Convolution1D,Dropout,MaxPooling1D,Conv1D,Input,Flatten\n",
    "from keras.initializers import Constant\n",
    "from sklearn.model_selection import train_test_split\n",
    "from keras.optimizers import Adam"
   ]
  },
  {
   "cell_type": "code",
   "execution_count": 3,
   "metadata": {
    "execution": {
     "iopub.execute_input": "2020-11-29T07:41:07.882297Z",
     "iopub.status.busy": "2020-11-29T07:41:07.881249Z",
     "iopub.status.idle": "2020-11-29T07:41:07.884775Z",
     "shell.execute_reply": "2020-11-29T07:41:07.884226Z"
    },
    "papermill": {
     "duration": 0.070641,
     "end_time": "2020-11-29T07:41:07.884929",
     "exception": false,
     "start_time": "2020-11-29T07:41:07.814288",
     "status": "completed"
    },
    "tags": []
   },
   "outputs": [],
   "source": [
    "import os\n"
   ]
  },
  {
   "cell_type": "markdown",
   "metadata": {
    "papermill": {
     "duration": 0.054094,
     "end_time": "2020-11-29T07:41:07.993440",
     "exception": false,
     "start_time": "2020-11-29T07:41:07.939346",
     "status": "completed"
    },
    "tags": []
   },
   "source": [
    "## Loading & Exploring dataset"
   ]
  },
  {
   "cell_type": "code",
   "execution_count": 4,
   "metadata": {
    "execution": {
     "iopub.execute_input": "2020-11-29T07:41:08.110773Z",
     "iopub.status.busy": "2020-11-29T07:41:08.110002Z",
     "iopub.status.idle": "2020-11-29T07:41:08.175195Z",
     "shell.execute_reply": "2020-11-29T07:41:08.174142Z"
    },
    "papermill": {
     "duration": 0.126952,
     "end_time": "2020-11-29T07:41:08.175341",
     "exception": false,
     "start_time": "2020-11-29T07:41:08.048389",
     "status": "completed"
    },
    "tags": []
   },
   "outputs": [],
   "source": [
    "tweet= pd.read_csv('../input/nlp-getting-started/train.csv')\n",
    "test=pd.read_csv('../input/nlp-getting-started/test.csv')\n",
    "\n"
   ]
  },
  {
   "cell_type": "code",
   "execution_count": 5,
   "metadata": {
    "execution": {
     "iopub.execute_input": "2020-11-29T07:41:08.292632Z",
     "iopub.status.busy": "2020-11-29T07:41:08.291770Z",
     "iopub.status.idle": "2020-11-29T07:41:08.295883Z",
     "shell.execute_reply": "2020-11-29T07:41:08.295244Z"
    },
    "papermill": {
     "duration": 0.064616,
     "end_time": "2020-11-29T07:41:08.296045",
     "exception": false,
     "start_time": "2020-11-29T07:41:08.231429",
     "status": "completed"
    },
    "tags": []
   },
   "outputs": [
    {
     "name": "stdout",
     "output_type": "stream",
     "text": [
      "training data shape (7613, 5)\n",
      "test data shape (3263, 4)\n"
     ]
    }
   ],
   "source": [
    "print('training data shape', tweet.shape)\n",
    "print('test data shape', test.shape)"
   ]
  },
  {
   "cell_type": "code",
   "execution_count": 6,
   "metadata": {
    "execution": {
     "iopub.execute_input": "2020-11-29T07:41:08.417294Z",
     "iopub.status.busy": "2020-11-29T07:41:08.416407Z",
     "iopub.status.idle": "2020-11-29T07:41:08.421668Z",
     "shell.execute_reply": "2020-11-29T07:41:08.420967Z"
    },
    "papermill": {
     "duration": 0.069877,
     "end_time": "2020-11-29T07:41:08.421795",
     "exception": false,
     "start_time": "2020-11-29T07:41:08.351918",
     "status": "completed"
    },
    "tags": []
   },
   "outputs": [],
   "source": [
    "def explore_data(df):\n",
    "    \n",
    "    '''Input- df= pandas dataframes to be explored\n",
    "       Output- print shape, info and first 5 records of the dataframe \n",
    "    '''\n",
    "    \n",
    "    print(\"-\"*50)\n",
    "    print('Shape of the dataframe:',df.shape)\n",
    "    print(\"Number of records in train data set:\",df.shape[0])\n",
    "    print(\"Information of the dataset:\")\n",
    "    df.info()\n",
    "    print(\"-\"*50)\n",
    "    print(\"First 5 records of the dataset:\")\n",
    "    return df.head()\n",
    "    print(\"-\"*50)"
   ]
  },
  {
   "cell_type": "code",
   "execution_count": 7,
   "metadata": {
    "execution": {
     "iopub.execute_input": "2020-11-29T07:41:08.555702Z",
     "iopub.status.busy": "2020-11-29T07:41:08.550875Z",
     "iopub.status.idle": "2020-11-29T07:41:08.575781Z",
     "shell.execute_reply": "2020-11-29T07:41:08.574736Z"
    },
    "papermill": {
     "duration": 0.097529,
     "end_time": "2020-11-29T07:41:08.575952",
     "exception": false,
     "start_time": "2020-11-29T07:41:08.478423",
     "status": "completed"
    },
    "tags": []
   },
   "outputs": [
    {
     "name": "stdout",
     "output_type": "stream",
     "text": [
      "--------------------------------------------------\n",
      "Shape of the dataframe: (7613, 5)\n",
      "Number of records in train data set: 7613\n",
      "Information of the dataset:\n",
      "<class 'pandas.core.frame.DataFrame'>\n",
      "RangeIndex: 7613 entries, 0 to 7612\n",
      "Data columns (total 5 columns):\n",
      " #   Column    Non-Null Count  Dtype \n",
      "---  ------    --------------  ----- \n",
      " 0   id        7613 non-null   int64 \n",
      " 1   keyword   7552 non-null   object\n",
      " 2   location  5080 non-null   object\n",
      " 3   text      7613 non-null   object\n",
      " 4   target    7613 non-null   int64 \n",
      "dtypes: int64(2), object(3)\n",
      "memory usage: 297.5+ KB\n",
      "--------------------------------------------------\n",
      "First 5 records of the dataset:\n"
     ]
    },
    {
     "data": {
      "text/html": [
       "<div>\n",
       "<style scoped>\n",
       "    .dataframe tbody tr th:only-of-type {\n",
       "        vertical-align: middle;\n",
       "    }\n",
       "\n",
       "    .dataframe tbody tr th {\n",
       "        vertical-align: top;\n",
       "    }\n",
       "\n",
       "    .dataframe thead th {\n",
       "        text-align: right;\n",
       "    }\n",
       "</style>\n",
       "<table border=\"1\" class=\"dataframe\">\n",
       "  <thead>\n",
       "    <tr style=\"text-align: right;\">\n",
       "      <th></th>\n",
       "      <th>id</th>\n",
       "      <th>keyword</th>\n",
       "      <th>location</th>\n",
       "      <th>text</th>\n",
       "      <th>target</th>\n",
       "    </tr>\n",
       "  </thead>\n",
       "  <tbody>\n",
       "    <tr>\n",
       "      <th>0</th>\n",
       "      <td>1</td>\n",
       "      <td>NaN</td>\n",
       "      <td>NaN</td>\n",
       "      <td>Our Deeds are the Reason of this #earthquake M...</td>\n",
       "      <td>1</td>\n",
       "    </tr>\n",
       "    <tr>\n",
       "      <th>1</th>\n",
       "      <td>4</td>\n",
       "      <td>NaN</td>\n",
       "      <td>NaN</td>\n",
       "      <td>Forest fire near La Ronge Sask. Canada</td>\n",
       "      <td>1</td>\n",
       "    </tr>\n",
       "    <tr>\n",
       "      <th>2</th>\n",
       "      <td>5</td>\n",
       "      <td>NaN</td>\n",
       "      <td>NaN</td>\n",
       "      <td>All residents asked to 'shelter in place' are ...</td>\n",
       "      <td>1</td>\n",
       "    </tr>\n",
       "    <tr>\n",
       "      <th>3</th>\n",
       "      <td>6</td>\n",
       "      <td>NaN</td>\n",
       "      <td>NaN</td>\n",
       "      <td>13,000 people receive #wildfires evacuation or...</td>\n",
       "      <td>1</td>\n",
       "    </tr>\n",
       "    <tr>\n",
       "      <th>4</th>\n",
       "      <td>7</td>\n",
       "      <td>NaN</td>\n",
       "      <td>NaN</td>\n",
       "      <td>Just got sent this photo from Ruby #Alaska as ...</td>\n",
       "      <td>1</td>\n",
       "    </tr>\n",
       "  </tbody>\n",
       "</table>\n",
       "</div>"
      ],
      "text/plain": [
       "   id keyword location                                               text  \\\n",
       "0   1     NaN      NaN  Our Deeds are the Reason of this #earthquake M...   \n",
       "1   4     NaN      NaN             Forest fire near La Ronge Sask. Canada   \n",
       "2   5     NaN      NaN  All residents asked to 'shelter in place' are ...   \n",
       "3   6     NaN      NaN  13,000 people receive #wildfires evacuation or...   \n",
       "4   7     NaN      NaN  Just got sent this photo from Ruby #Alaska as ...   \n",
       "\n",
       "   target  \n",
       "0       1  \n",
       "1       1  \n",
       "2       1  \n",
       "3       1  \n",
       "4       1  "
      ]
     },
     "execution_count": 7,
     "metadata": {},
     "output_type": "execute_result"
    }
   ],
   "source": [
    "# Lets use explore_data() function to explore train data\n",
    "explore_data(tweet)"
   ]
  },
  {
   "cell_type": "code",
   "execution_count": 8,
   "metadata": {
    "execution": {
     "iopub.execute_input": "2020-11-29T07:41:08.710552Z",
     "iopub.status.busy": "2020-11-29T07:41:08.709556Z",
     "iopub.status.idle": "2020-11-29T07:41:08.716665Z",
     "shell.execute_reply": "2020-11-29T07:41:08.715676Z"
    },
    "papermill": {
     "duration": 0.082162,
     "end_time": "2020-11-29T07:41:08.716826",
     "exception": false,
     "start_time": "2020-11-29T07:41:08.634664",
     "status": "completed"
    },
    "tags": []
   },
   "outputs": [
    {
     "name": "stdout",
     "output_type": "stream",
     "text": [
      "--------------------------------------------------\n",
      "Shape of the dataframe: (3263, 4)\n",
      "Number of records in train data set: 3263\n",
      "Information of the dataset:\n",
      "<class 'pandas.core.frame.DataFrame'>\n",
      "RangeIndex: 3263 entries, 0 to 3262\n",
      "Data columns (total 4 columns):\n",
      " #   Column    Non-Null Count  Dtype \n",
      "---  ------    --------------  ----- \n",
      " 0   id        3263 non-null   int64 \n",
      " 1   keyword   3237 non-null   object\n",
      " 2   location  2158 non-null   object\n",
      " 3   text      3263 non-null   object\n",
      "dtypes: int64(1), object(3)\n",
      "memory usage: 102.1+ KB\n",
      "--------------------------------------------------\n",
      "First 5 records of the dataset:\n"
     ]
    },
    {
     "data": {
      "text/html": [
       "<div>\n",
       "<style scoped>\n",
       "    .dataframe tbody tr th:only-of-type {\n",
       "        vertical-align: middle;\n",
       "    }\n",
       "\n",
       "    .dataframe tbody tr th {\n",
       "        vertical-align: top;\n",
       "    }\n",
       "\n",
       "    .dataframe thead th {\n",
       "        text-align: right;\n",
       "    }\n",
       "</style>\n",
       "<table border=\"1\" class=\"dataframe\">\n",
       "  <thead>\n",
       "    <tr style=\"text-align: right;\">\n",
       "      <th></th>\n",
       "      <th>id</th>\n",
       "      <th>keyword</th>\n",
       "      <th>location</th>\n",
       "      <th>text</th>\n",
       "    </tr>\n",
       "  </thead>\n",
       "  <tbody>\n",
       "    <tr>\n",
       "      <th>0</th>\n",
       "      <td>0</td>\n",
       "      <td>NaN</td>\n",
       "      <td>NaN</td>\n",
       "      <td>Just happened a terrible car crash</td>\n",
       "    </tr>\n",
       "    <tr>\n",
       "      <th>1</th>\n",
       "      <td>2</td>\n",
       "      <td>NaN</td>\n",
       "      <td>NaN</td>\n",
       "      <td>Heard about #earthquake is different cities, s...</td>\n",
       "    </tr>\n",
       "    <tr>\n",
       "      <th>2</th>\n",
       "      <td>3</td>\n",
       "      <td>NaN</td>\n",
       "      <td>NaN</td>\n",
       "      <td>there is a forest fire at spot pond, geese are...</td>\n",
       "    </tr>\n",
       "    <tr>\n",
       "      <th>3</th>\n",
       "      <td>9</td>\n",
       "      <td>NaN</td>\n",
       "      <td>NaN</td>\n",
       "      <td>Apocalypse lighting. #Spokane #wildfires</td>\n",
       "    </tr>\n",
       "    <tr>\n",
       "      <th>4</th>\n",
       "      <td>11</td>\n",
       "      <td>NaN</td>\n",
       "      <td>NaN</td>\n",
       "      <td>Typhoon Soudelor kills 28 in China and Taiwan</td>\n",
       "    </tr>\n",
       "  </tbody>\n",
       "</table>\n",
       "</div>"
      ],
      "text/plain": [
       "   id keyword location                                               text\n",
       "0   0     NaN      NaN                 Just happened a terrible car crash\n",
       "1   2     NaN      NaN  Heard about #earthquake is different cities, s...\n",
       "2   3     NaN      NaN  there is a forest fire at spot pond, geese are...\n",
       "3   9     NaN      NaN           Apocalypse lighting. #Spokane #wildfires\n",
       "4  11     NaN      NaN      Typhoon Soudelor kills 28 in China and Taiwan"
      ]
     },
     "execution_count": 8,
     "metadata": {},
     "output_type": "execute_result"
    }
   ],
   "source": [
    "# Lets use explore_data() function to explore test data\n",
    "explore_data(test)"
   ]
  },
  {
   "cell_type": "markdown",
   "metadata": {
    "papermill": {
     "duration": 0.057555,
     "end_time": "2020-11-29T07:41:08.832945",
     "exception": false,
     "start_time": "2020-11-29T07:41:08.775390",
     "status": "completed"
    },
    "tags": []
   },
   "source": [
    "### Class Distribution"
   ]
  },
  {
   "cell_type": "code",
   "execution_count": 9,
   "metadata": {
    "execution": {
     "iopub.execute_input": "2020-11-29T07:41:08.960221Z",
     "iopub.status.busy": "2020-11-29T07:41:08.959343Z",
     "iopub.status.idle": "2020-11-29T07:41:09.151319Z",
     "shell.execute_reply": "2020-11-29T07:41:09.150572Z"
    },
    "papermill": {
     "duration": 0.260636,
     "end_time": "2020-11-29T07:41:09.151466",
     "exception": false,
     "start_time": "2020-11-29T07:41:08.890830",
     "status": "completed"
    },
    "tags": []
   },
   "outputs": [
    {
     "name": "stdout",
     "output_type": "stream",
     "text": [
      "Target of 0 is 57.0 % of total\n",
      "Target of 1 is 43.0 % of total\n"
     ]
    },
    {
     "data": {
      "image/png": "[encoded data removed]",
      "text/plain": [
       "<Figure size 432x288 with 1 Axes>"
      ]
     },
     "metadata": {},
     "output_type": "display_data"
    }
   ],
   "source": [
    "\n",
    "feature='target'\n",
    "sns.countplot(feature, data=tweet)\n",
    "print('Target of 0 is {} % of total'.format(round(tweet[feature].value_counts()[0]/len(tweet[feature])*100)))\n",
    "print('Target of 1 is {} % of total'.format(round(tweet[feature].value_counts()[1]/len(tweet[feature])*100)))\n"
   ]
  },
  {
   "cell_type": "markdown",
   "metadata": {
    "papermill": {
     "duration": 0.059602,
     "end_time": "2020-11-29T07:41:09.270613",
     "exception": false,
     "start_time": "2020-11-29T07:41:09.211011",
     "status": "completed"
    },
    "tags": []
   },
   "source": [
    "## Data Pre-processing\n",
    "\n",
    "Before starting any NLP project, text data needs to be pre-processed to convert it into in a consistent format.Text will be cleaned, tokneized and converted into a matrix.\n",
    "\n",
    "Some of the basic text pre-processing techniques includes:\n",
    "1. **Make text all lower or uppercase**\n",
    "2. **Removing Noise** - Remove Punctuation and numerical Values\n",
    "3. **Tokenization**  - Process of converting the normal text strings into a list of tokens i.e. words.\n",
    "4. **Stopword Removal**-Some extremely common words which would appear to be of little value in helping select documents matching a user need are excluded from the vocabulary entirely.\n",
    "5. **Stemming**-Stemming is the process of reducing inflected (or sometimes derived) words to their stem, base or root form — generally a written word form. Example if we were to stem the following words: “Stems”, “Stemming”, “Stemmed”, “and Stemtization”, the result would be a single word “stem”.\n",
    "6. **Lemmatization**-A slight variant of stemming is lemmatization. The major difference between these is, that, stemming can often create non-existent words, whereas lemmas are actual words. So, your root stem, meaning the word you end up with, is not something you can just look up in a dictionary, but you can look up a lemma. Examples of Lemmatization are that “run” is a base form for words like “running” or “ran” or that the word “better” and “good” are in the same lemma so they are considered the same.\n",
    "\n",
    "\n"
   ]
  },
  {
   "cell_type": "markdown",
   "metadata": {
    "papermill": {
     "duration": 0.060323,
     "end_time": "2020-11-29T07:41:09.391621",
     "exception": false,
     "start_time": "2020-11-29T07:41:09.331298",
     "status": "completed"
    },
    "tags": []
   },
   "source": [
    "### Data Cleaning"
   ]
  },
  {
   "cell_type": "code",
   "execution_count": 10,
   "metadata": {
    "execution": {
     "iopub.execute_input": "2020-11-29T07:41:09.521905Z",
     "iopub.status.busy": "2020-11-29T07:41:09.520794Z",
     "iopub.status.idle": "2020-11-29T07:41:09.524562Z",
     "shell.execute_reply": "2020-11-29T07:41:09.523930Z"
    },
    "papermill": {
     "duration": 0.073172,
     "end_time": "2020-11-29T07:41:09.524682",
     "exception": false,
     "start_time": "2020-11-29T07:41:09.451510",
     "status": "completed"
    },
    "tags": []
   },
   "outputs": [],
   "source": [
    "#Create a function to clean the text\n",
    "def clean_text(text):\n",
    "\n",
    "    '''\n",
    "    Input- 'text' to be cleaned\n",
    "       \n",
    "       Output- Convert input 'text' to lowercase,remove square brackets,links,punctuation\n",
    "       and words containing numbers. Return clean text.\n",
    "    \n",
    "    '''\n",
    "    text = text.lower()\n",
    "    text = re.sub('\\[.*?\\]', '', text)\n",
    "    text = re.sub('https?://\\S+|www\\.\\S+', '', text)\n",
    "    text = re.sub('<.*?>+', '', text)\n",
    "    text = re.sub('[%s]' % re.escape(string.punctuation), '', text)\n",
    "    text = re.sub('\\n', '', text)\n",
    "    text = re.sub('\\w*\\d\\w*', '', text)\n",
    "    return text"
   ]
  },
  {
   "cell_type": "code",
   "execution_count": 11,
   "metadata": {
    "execution": {
     "iopub.execute_input": "2020-11-29T07:41:09.674135Z",
     "iopub.status.busy": "2020-11-29T07:41:09.669038Z",
     "iopub.status.idle": "2020-11-29T07:41:10.169101Z",
     "shell.execute_reply": "2020-11-29T07:41:10.168283Z"
    },
    "papermill": {
     "duration": 0.584459,
     "end_time": "2020-11-29T07:41:10.169231",
     "exception": false,
     "start_time": "2020-11-29T07:41:09.584772",
     "status": "completed"
    },
    "tags": []
   },
   "outputs": [],
   "source": [
    "tweet_df1=tweet.copy()\n",
    "test_df1=test.copy()\n",
    "tweet_df1['text'] = tweet_df1['text'].apply(lambda x: clean_text(x))\n",
    "test_df1['text'] = test_df1['text'].apply(lambda x: clean_text(x))"
   ]
  },
  {
   "cell_type": "code",
   "execution_count": 12,
   "metadata": {
    "execution": {
     "iopub.execute_input": "2020-11-29T07:41:10.304249Z",
     "iopub.status.busy": "2020-11-29T07:41:10.303226Z",
     "iopub.status.idle": "2020-11-29T07:41:10.306280Z",
     "shell.execute_reply": "2020-11-29T07:41:10.305681Z"
    },
    "papermill": {
     "duration": 0.070912,
     "end_time": "2020-11-29T07:41:10.306407",
     "exception": false,
     "start_time": "2020-11-29T07:41:10.235495",
     "status": "completed"
    },
    "tags": []
   },
   "outputs": [],
   "source": [
    "#Lets look at cleaned data\n",
    "def text_after_preprocess(before_text,after_text):\n",
    "    \n",
    "    '''\n",
    "    Input- before_text=text column before cleanup\n",
    "              after_text= text column after cleanup\n",
    "       Output- print before and after text to compare how it looks after cleanup\n",
    "       \n",
    "    '''\n",
    "    print('-'*60)\n",
    "    print('Text before cleanup')\n",
    "    print('-'*60)\n",
    "    print(before_text.head(5))\n",
    "    print('-'*60)\n",
    "    print('Text after cleanup')\n",
    "    print('-'*60)\n",
    "    print(after_text.head(5))"
   ]
  },
  {
   "cell_type": "code",
   "execution_count": 13,
   "metadata": {
    "execution": {
     "iopub.execute_input": "2020-11-29T07:41:10.435661Z",
     "iopub.status.busy": "2020-11-29T07:41:10.434470Z",
     "iopub.status.idle": "2020-11-29T07:41:10.438323Z",
     "shell.execute_reply": "2020-11-29T07:41:10.438903Z"
    },
    "papermill": {
     "duration": 0.072153,
     "end_time": "2020-11-29T07:41:10.439071",
     "exception": false,
     "start_time": "2020-11-29T07:41:10.366918",
     "status": "completed"
    },
    "tags": []
   },
   "outputs": [
    {
     "name": "stdout",
     "output_type": "stream",
     "text": [
      "------------------------------------------------------------\n",
      "Text before cleanup\n",
      "------------------------------------------------------------\n",
      "0    Our Deeds are the Reason of this #earthquake M...\n",
      "1               Forest fire near La Ronge Sask. Canada\n",
      "2    All residents asked to 'shelter in place' are ...\n",
      "3    13,000 people receive #wildfires evacuation or...\n",
      "4    Just got sent this photo from Ruby #Alaska as ...\n",
      "Name: text, dtype: object\n",
      "------------------------------------------------------------\n",
      "Text after cleanup\n",
      "------------------------------------------------------------\n",
      "0    our deeds are the reason of this earthquake ma...\n",
      "1                forest fire near la ronge sask canada\n",
      "2    all residents asked to shelter in place are be...\n",
      "3     people receive wildfires evacuation orders in...\n",
      "4    just got sent this photo from ruby alaska as s...\n",
      "Name: text, dtype: object\n"
     ]
    }
   ],
   "source": [
    "text_after_preprocess(tweet.text,tweet_df1.text)\n"
   ]
  },
  {
   "cell_type": "code",
   "execution_count": 14,
   "metadata": {
    "execution": {
     "iopub.execute_input": "2020-11-29T07:41:10.569256Z",
     "iopub.status.busy": "2020-11-29T07:41:10.568289Z",
     "iopub.status.idle": "2020-11-29T07:41:10.571886Z",
     "shell.execute_reply": "2020-11-29T07:41:10.572545Z"
    },
    "papermill": {
     "duration": 0.072333,
     "end_time": "2020-11-29T07:41:10.572726",
     "exception": false,
     "start_time": "2020-11-29T07:41:10.500393",
     "status": "completed"
    },
    "tags": []
   },
   "outputs": [
    {
     "name": "stdout",
     "output_type": "stream",
     "text": [
      "------------------------------------------------------------\n",
      "Text before cleanup\n",
      "------------------------------------------------------------\n",
      "0                   Just happened a terrible car crash\n",
      "1    Heard about #earthquake is different cities, s...\n",
      "2    there is a forest fire at spot pond, geese are...\n",
      "3             Apocalypse lighting. #Spokane #wildfires\n",
      "4        Typhoon Soudelor kills 28 in China and Taiwan\n",
      "Name: text, dtype: object\n",
      "------------------------------------------------------------\n",
      "Text after cleanup\n",
      "------------------------------------------------------------\n",
      "0                   just happened a terrible car crash\n",
      "1    heard about earthquake is different cities sta...\n",
      "2    there is a forest fire at spot pond geese are ...\n",
      "3                apocalypse lighting spokane wildfires\n",
      "4          typhoon soudelor kills  in china and taiwan\n",
      "Name: text, dtype: object\n"
     ]
    }
   ],
   "source": [
    "text_after_preprocess(test.text,test_df1.text)\n"
   ]
  },
  {
   "cell_type": "markdown",
   "metadata": {
    "papermill": {
     "duration": 0.062092,
     "end_time": "2020-11-29T07:41:10.696345",
     "exception": false,
     "start_time": "2020-11-29T07:41:10.634253",
     "status": "completed"
    },
    "tags": []
   },
   "source": [
    "### Tokenization"
   ]
  },
  {
   "cell_type": "code",
   "execution_count": 15,
   "metadata": {
    "execution": {
     "iopub.execute_input": "2020-11-29T07:41:10.833283Z",
     "iopub.status.busy": "2020-11-29T07:41:10.832261Z",
     "iopub.status.idle": "2020-11-29T07:41:10.836741Z",
     "shell.execute_reply": "2020-11-29T07:41:10.835987Z"
    },
    "papermill": {
     "duration": 0.077757,
     "end_time": "2020-11-29T07:41:10.836866",
     "exception": false,
     "start_time": "2020-11-29T07:41:10.759109",
     "status": "completed"
    },
    "tags": []
   },
   "outputs": [
    {
     "name": "stdout",
     "output_type": "stream",
     "text": [
      "----------------------------------------------------------------------------------------------------\n",
      "Example Text:  Heard about #earthquake is different cities, stay safe everyone.\n",
      "----------------------------------------------------------------------------------------------------\n",
      "Tokenization by whitespace:-  ['Heard', 'about', '#earthquake', 'is', 'different', 'cities,', 'stay', 'safe', 'everyone.']\n",
      "Tokenization by words using Treebank Word Tokenizer:-  ['Heard', 'about', '#', 'earthquake', 'is', 'different', 'cities', ',', 'stay', 'safe', 'everyone', '.']\n",
      "Tokenization by punctuation:-  ['Heard', 'about', '#', 'earthquake', 'is', 'different', 'cities', ',', 'stay', 'safe', 'everyone', '.']\n",
      "Tokenization by regular expression:-  ['Heard', 'about', 'earthquake', 'is', 'different', 'cities', 'stay', 'safe', 'everyone']\n"
     ]
    }
   ],
   "source": [
    "import nltk\n",
    "# Example how tokenization of text works\n",
    "text = \"Heard about #earthquake is different cities, stay safe everyone.\"\n",
    "tokenizer1 = nltk.tokenize.WhitespaceTokenizer()\n",
    "tokenizer2 = nltk.tokenize.TreebankWordTokenizer()\n",
    "tokenizer3 = nltk.tokenize.WordPunctTokenizer()\n",
    "tokenizer4 = nltk.tokenize.RegexpTokenizer(r'\\w+')\n",
    "print(\"-\"*100)\n",
    "print(\"Example Text: \",text)\n",
    "print(\"-\"*100)\n",
    "print(\"Tokenization by whitespace:- \",tokenizer1.tokenize(text))\n",
    "print(\"Tokenization by words using Treebank Word Tokenizer:- \",tokenizer2.tokenize(text))\n",
    "print(\"Tokenization by punctuation:- \",tokenizer3.tokenize(text))\n",
    "print(\"Tokenization by regular expression:- \",tokenizer4.tokenize(text))"
   ]
  },
  {
   "cell_type": "code",
   "execution_count": 16,
   "metadata": {
    "execution": {
     "iopub.execute_input": "2020-11-29T07:41:10.974590Z",
     "iopub.status.busy": "2020-11-29T07:41:10.973598Z",
     "iopub.status.idle": "2020-11-29T07:41:10.977186Z",
     "shell.execute_reply": "2020-11-29T07:41:10.977740Z"
    },
    "papermill": {
     "duration": 0.078451,
     "end_time": "2020-11-29T07:41:10.977896",
     "exception": false,
     "start_time": "2020-11-29T07:41:10.899445",
     "status": "completed"
    },
    "tags": []
   },
   "outputs": [
    {
     "data": {
      "text/html": [
       "<div>\n",
       "<style scoped>\n",
       "    .dataframe tbody tr th:only-of-type {\n",
       "        vertical-align: middle;\n",
       "    }\n",
       "\n",
       "    .dataframe tbody tr th {\n",
       "        vertical-align: top;\n",
       "    }\n",
       "\n",
       "    .dataframe thead th {\n",
       "        text-align: right;\n",
       "    }\n",
       "</style>\n",
       "<table border=\"1\" class=\"dataframe\">\n",
       "  <thead>\n",
       "    <tr style=\"text-align: right;\">\n",
       "      <th></th>\n",
       "      <th>id</th>\n",
       "      <th>keyword</th>\n",
       "      <th>location</th>\n",
       "      <th>text</th>\n",
       "      <th>target</th>\n",
       "    </tr>\n",
       "  </thead>\n",
       "  <tbody>\n",
       "    <tr>\n",
       "      <th>0</th>\n",
       "      <td>1</td>\n",
       "      <td>NaN</td>\n",
       "      <td>NaN</td>\n",
       "      <td>our deeds are the reason of this earthquake ma...</td>\n",
       "      <td>1</td>\n",
       "    </tr>\n",
       "    <tr>\n",
       "      <th>1</th>\n",
       "      <td>4</td>\n",
       "      <td>NaN</td>\n",
       "      <td>NaN</td>\n",
       "      <td>forest fire near la ronge sask canada</td>\n",
       "      <td>1</td>\n",
       "    </tr>\n",
       "    <tr>\n",
       "      <th>2</th>\n",
       "      <td>5</td>\n",
       "      <td>NaN</td>\n",
       "      <td>NaN</td>\n",
       "      <td>all residents asked to shelter in place are be...</td>\n",
       "      <td>1</td>\n",
       "    </tr>\n",
       "    <tr>\n",
       "      <th>3</th>\n",
       "      <td>6</td>\n",
       "      <td>NaN</td>\n",
       "      <td>NaN</td>\n",
       "      <td>people receive wildfires evacuation orders in...</td>\n",
       "      <td>1</td>\n",
       "    </tr>\n",
       "    <tr>\n",
       "      <th>4</th>\n",
       "      <td>7</td>\n",
       "      <td>NaN</td>\n",
       "      <td>NaN</td>\n",
       "      <td>just got sent this photo from ruby alaska as s...</td>\n",
       "      <td>1</td>\n",
       "    </tr>\n",
       "  </tbody>\n",
       "</table>\n",
       "</div>"
      ],
      "text/plain": [
       "   id keyword location                                               text  \\\n",
       "0   1     NaN      NaN  our deeds are the reason of this earthquake ma...   \n",
       "1   4     NaN      NaN              forest fire near la ronge sask canada   \n",
       "2   5     NaN      NaN  all residents asked to shelter in place are be...   \n",
       "3   6     NaN      NaN   people receive wildfires evacuation orders in...   \n",
       "4   7     NaN      NaN  just got sent this photo from ruby alaska as s...   \n",
       "\n",
       "   target  \n",
       "0       1  \n",
       "1       1  \n",
       "2       1  \n",
       "3       1  \n",
       "4       1  "
      ]
     },
     "execution_count": 16,
     "metadata": {},
     "output_type": "execute_result"
    }
   ],
   "source": [
    "#before tokenization\n",
    "tweet_df1.head()"
   ]
  },
  {
   "cell_type": "code",
   "execution_count": 17,
   "metadata": {
    "execution": {
     "iopub.execute_input": "2020-11-29T07:41:11.138667Z",
     "iopub.status.busy": "2020-11-29T07:41:11.133582Z",
     "iopub.status.idle": "2020-11-29T07:41:11.217036Z",
     "shell.execute_reply": "2020-11-29T07:41:11.216387Z"
    },
    "papermill": {
     "duration": 0.17395,
     "end_time": "2020-11-29T07:41:11.217170",
     "exception": false,
     "start_time": "2020-11-29T07:41:11.043220",
     "status": "completed"
    },
    "tags": []
   },
   "outputs": [],
   "source": [
    "# Lets Tokenize the training and the test dataset copies with RegEx tokenizer\n",
    "tokenizer = nltk.tokenize.RegexpTokenizer(r'\\w+')\n",
    "tweet_df1['text'] = tweet_df1['text'].apply(lambda x: tokenizer.tokenize(x))\n",
    "test_df1['text'] = test_df1['text'].apply(lambda x: tokenizer.tokenize(x))"
   ]
  },
  {
   "cell_type": "code",
   "execution_count": 18,
   "metadata": {
    "execution": {
     "iopub.execute_input": "2020-11-29T07:41:11.354705Z",
     "iopub.status.busy": "2020-11-29T07:41:11.353710Z",
     "iopub.status.idle": "2020-11-29T07:41:11.357780Z",
     "shell.execute_reply": "2020-11-29T07:41:11.358319Z"
    },
    "papermill": {
     "duration": 0.078027,
     "end_time": "2020-11-29T07:41:11.358484",
     "exception": false,
     "start_time": "2020-11-29T07:41:11.280457",
     "status": "completed"
    },
    "tags": []
   },
   "outputs": [
    {
     "data": {
      "text/plain": [
       "0       [our, deeds, are, the, reason, of, this, earth...\n",
       "1           [forest, fire, near, la, ronge, sask, canada]\n",
       "2       [all, residents, asked, to, shelter, in, place...\n",
       "3       [people, receive, wildfires, evacuation, order...\n",
       "4       [just, got, sent, this, photo, from, ruby, ala...\n",
       "                              ...                        \n",
       "7608    [two, giant, cranes, holding, a, bridge, colla...\n",
       "7609    [ariaahrary, thetawniest, the, out, of, contro...\n",
       "7610                             [s, of, volcano, hawaii]\n",
       "7611    [police, investigating, after, an, ebike, coll...\n",
       "7612    [the, latest, more, homes, razed, by, northern...\n",
       "Name: text, Length: 7613, dtype: object"
      ]
     },
     "execution_count": 18,
     "metadata": {},
     "output_type": "execute_result"
    }
   ],
   "source": [
    "#lets check tokenized text\n",
    "tweet_df1['text']"
   ]
  },
  {
   "cell_type": "markdown",
   "metadata": {
    "papermill": {
     "duration": 0.063701,
     "end_time": "2020-11-29T07:41:11.486188",
     "exception": false,
     "start_time": "2020-11-29T07:41:11.422487",
     "status": "completed"
    },
    "tags": []
   },
   "source": [
    "### Stop words Removal"
   ]
  },
  {
   "cell_type": "code",
   "execution_count": 19,
   "metadata": {
    "execution": {
     "iopub.execute_input": "2020-11-29T07:41:11.621171Z",
     "iopub.status.busy": "2020-11-29T07:41:11.620272Z",
     "iopub.status.idle": "2020-11-29T07:41:11.623343Z",
     "shell.execute_reply": "2020-11-29T07:41:11.622585Z"
    },
    "papermill": {
     "duration": 0.073275,
     "end_time": "2020-11-29T07:41:11.623465",
     "exception": false,
     "start_time": "2020-11-29T07:41:11.550190",
     "status": "completed"
    },
    "tags": []
   },
   "outputs": [],
   "source": [
    "#Create a funtion to remove stopwords\n",
    "def remove_stopwords(text):\n",
    "    \n",
    "    \"\"\"\n",
    "    Input- text=text from which english stopwprds will be removed\n",
    "    Output- return text without english stopwords \n",
    "    \n",
    "    \"\"\"\n",
    "    words = [w for w in text if w not in stopwords.words('english')]\n",
    "    return words\n",
    "\n"
   ]
  },
  {
   "cell_type": "code",
   "execution_count": 20,
   "metadata": {
    "execution": {
     "iopub.execute_input": "2020-11-29T07:41:11.767980Z",
     "iopub.status.busy": "2020-11-29T07:41:11.767128Z",
     "iopub.status.idle": "2020-11-29T07:41:11.771623Z",
     "shell.execute_reply": "2020-11-29T07:41:11.770887Z"
    },
    "papermill": {
     "duration": 0.084344,
     "end_time": "2020-11-29T07:41:11.771746",
     "exception": false,
     "start_time": "2020-11-29T07:41:11.687402",
     "status": "completed"
    },
    "tags": []
   },
   "outputs": [
    {
     "data": {
      "text/html": [
       "<div>\n",
       "<style scoped>\n",
       "    .dataframe tbody tr th:only-of-type {\n",
       "        vertical-align: middle;\n",
       "    }\n",
       "\n",
       "    .dataframe tbody tr th {\n",
       "        vertical-align: top;\n",
       "    }\n",
       "\n",
       "    .dataframe thead th {\n",
       "        text-align: right;\n",
       "    }\n",
       "</style>\n",
       "<table border=\"1\" class=\"dataframe\">\n",
       "  <thead>\n",
       "    <tr style=\"text-align: right;\">\n",
       "      <th></th>\n",
       "      <th>id</th>\n",
       "      <th>keyword</th>\n",
       "      <th>location</th>\n",
       "      <th>text</th>\n",
       "      <th>target</th>\n",
       "    </tr>\n",
       "  </thead>\n",
       "  <tbody>\n",
       "    <tr>\n",
       "      <th>0</th>\n",
       "      <td>1</td>\n",
       "      <td>NaN</td>\n",
       "      <td>NaN</td>\n",
       "      <td>[our, deeds, are, the, reason, of, this, earth...</td>\n",
       "      <td>1</td>\n",
       "    </tr>\n",
       "    <tr>\n",
       "      <th>1</th>\n",
       "      <td>4</td>\n",
       "      <td>NaN</td>\n",
       "      <td>NaN</td>\n",
       "      <td>[forest, fire, near, la, ronge, sask, canada]</td>\n",
       "      <td>1</td>\n",
       "    </tr>\n",
       "    <tr>\n",
       "      <th>2</th>\n",
       "      <td>5</td>\n",
       "      <td>NaN</td>\n",
       "      <td>NaN</td>\n",
       "      <td>[all, residents, asked, to, shelter, in, place...</td>\n",
       "      <td>1</td>\n",
       "    </tr>\n",
       "    <tr>\n",
       "      <th>3</th>\n",
       "      <td>6</td>\n",
       "      <td>NaN</td>\n",
       "      <td>NaN</td>\n",
       "      <td>[people, receive, wildfires, evacuation, order...</td>\n",
       "      <td>1</td>\n",
       "    </tr>\n",
       "    <tr>\n",
       "      <th>4</th>\n",
       "      <td>7</td>\n",
       "      <td>NaN</td>\n",
       "      <td>NaN</td>\n",
       "      <td>[just, got, sent, this, photo, from, ruby, ala...</td>\n",
       "      <td>1</td>\n",
       "    </tr>\n",
       "  </tbody>\n",
       "</table>\n",
       "</div>"
      ],
      "text/plain": [
       "   id keyword location                                               text  \\\n",
       "0   1     NaN      NaN  [our, deeds, are, the, reason, of, this, earth...   \n",
       "1   4     NaN      NaN      [forest, fire, near, la, ronge, sask, canada]   \n",
       "2   5     NaN      NaN  [all, residents, asked, to, shelter, in, place...   \n",
       "3   6     NaN      NaN  [people, receive, wildfires, evacuation, order...   \n",
       "4   7     NaN      NaN  [just, got, sent, this, photo, from, ruby, ala...   \n",
       "\n",
       "   target  \n",
       "0       1  \n",
       "1       1  \n",
       "2       1  \n",
       "3       1  \n",
       "4       1  "
      ]
     },
     "execution_count": 20,
     "metadata": {},
     "output_type": "execute_result"
    }
   ],
   "source": [
    "#Before stopwords removal\n",
    "tweet_df1.head()"
   ]
  },
  {
   "cell_type": "code",
   "execution_count": 21,
   "metadata": {
    "execution": {
     "iopub.execute_input": "2020-11-29T07:41:11.909754Z",
     "iopub.status.busy": "2020-11-29T07:41:11.908620Z",
     "iopub.status.idle": "2020-11-29T07:41:34.516207Z",
     "shell.execute_reply": "2020-11-29T07:41:34.516752Z"
    },
    "papermill": {
     "duration": 22.680358,
     "end_time": "2020-11-29T07:41:34.516922",
     "exception": false,
     "start_time": "2020-11-29T07:41:11.836564",
     "status": "completed"
    },
    "tags": []
   },
   "outputs": [],
   "source": [
    "tweet_df1['text'] = tweet_df1['text'].apply(lambda x : remove_stopwords(x))\n",
    "test_df1['text'] = test_df1['text'].apply(lambda x : remove_stopwords(x))"
   ]
  },
  {
   "cell_type": "code",
   "execution_count": 22,
   "metadata": {
    "execution": {
     "iopub.execute_input": "2020-11-29T07:41:34.661778Z",
     "iopub.status.busy": "2020-11-29T07:41:34.661041Z",
     "iopub.status.idle": "2020-11-29T07:41:34.667459Z",
     "shell.execute_reply": "2020-11-29T07:41:34.666823Z"
    },
    "papermill": {
     "duration": 0.085607,
     "end_time": "2020-11-29T07:41:34.667583",
     "exception": false,
     "start_time": "2020-11-29T07:41:34.581976",
     "status": "completed"
    },
    "tags": []
   },
   "outputs": [
    {
     "data": {
      "text/html": [
       "<div>\n",
       "<style scoped>\n",
       "    .dataframe tbody tr th:only-of-type {\n",
       "        vertical-align: middle;\n",
       "    }\n",
       "\n",
       "    .dataframe tbody tr th {\n",
       "        vertical-align: top;\n",
       "    }\n",
       "\n",
       "    .dataframe thead th {\n",
       "        text-align: right;\n",
       "    }\n",
       "</style>\n",
       "<table border=\"1\" class=\"dataframe\">\n",
       "  <thead>\n",
       "    <tr style=\"text-align: right;\">\n",
       "      <th></th>\n",
       "      <th>id</th>\n",
       "      <th>keyword</th>\n",
       "      <th>location</th>\n",
       "      <th>text</th>\n",
       "      <th>target</th>\n",
       "    </tr>\n",
       "  </thead>\n",
       "  <tbody>\n",
       "    <tr>\n",
       "      <th>0</th>\n",
       "      <td>1</td>\n",
       "      <td>NaN</td>\n",
       "      <td>NaN</td>\n",
       "      <td>[deeds, reason, earthquake, may, allah, forgiv...</td>\n",
       "      <td>1</td>\n",
       "    </tr>\n",
       "    <tr>\n",
       "      <th>1</th>\n",
       "      <td>4</td>\n",
       "      <td>NaN</td>\n",
       "      <td>NaN</td>\n",
       "      <td>[forest, fire, near, la, ronge, sask, canada]</td>\n",
       "      <td>1</td>\n",
       "    </tr>\n",
       "    <tr>\n",
       "      <th>2</th>\n",
       "      <td>5</td>\n",
       "      <td>NaN</td>\n",
       "      <td>NaN</td>\n",
       "      <td>[residents, asked, shelter, place, notified, o...</td>\n",
       "      <td>1</td>\n",
       "    </tr>\n",
       "    <tr>\n",
       "      <th>3</th>\n",
       "      <td>6</td>\n",
       "      <td>NaN</td>\n",
       "      <td>NaN</td>\n",
       "      <td>[people, receive, wildfires, evacuation, order...</td>\n",
       "      <td>1</td>\n",
       "    </tr>\n",
       "    <tr>\n",
       "      <th>4</th>\n",
       "      <td>7</td>\n",
       "      <td>NaN</td>\n",
       "      <td>NaN</td>\n",
       "      <td>[got, sent, photo, ruby, alaska, smoke, wildfi...</td>\n",
       "      <td>1</td>\n",
       "    </tr>\n",
       "  </tbody>\n",
       "</table>\n",
       "</div>"
      ],
      "text/plain": [
       "   id keyword location                                               text  \\\n",
       "0   1     NaN      NaN  [deeds, reason, earthquake, may, allah, forgiv...   \n",
       "1   4     NaN      NaN      [forest, fire, near, la, ronge, sask, canada]   \n",
       "2   5     NaN      NaN  [residents, asked, shelter, place, notified, o...   \n",
       "3   6     NaN      NaN  [people, receive, wildfires, evacuation, order...   \n",
       "4   7     NaN      NaN  [got, sent, photo, ruby, alaska, smoke, wildfi...   \n",
       "\n",
       "   target  \n",
       "0       1  \n",
       "1       1  \n",
       "2       1  \n",
       "3       1  \n",
       "4       1  "
      ]
     },
     "execution_count": 22,
     "metadata": {},
     "output_type": "execute_result"
    }
   ],
   "source": [
    "#after stopwords removal\n",
    "tweet_df1.head()"
   ]
  },
  {
   "cell_type": "markdown",
   "metadata": {
    "papermill": {
     "duration": 0.06486,
     "end_time": "2020-11-29T07:41:34.798523",
     "exception": false,
     "start_time": "2020-11-29T07:41:34.733663",
     "status": "completed"
    },
    "tags": []
   },
   "source": [
    "## Stemming and Lemmatization\n",
    "\n",
    "Stemming and lemmatization sometimes doesnt necessarily improve results as sometimes we dont want to trim words rather preserve their original form.Its usage from problem to problem and for this problem it wouldnt be good idea to use it."
   ]
  },
  {
   "cell_type": "code",
   "execution_count": 23,
   "metadata": {
    "execution": {
     "iopub.execute_input": "2020-11-29T07:41:34.937947Z",
     "iopub.status.busy": "2020-11-29T07:41:34.936854Z",
     "iopub.status.idle": "2020-11-29T07:41:34.939496Z",
     "shell.execute_reply": "2020-11-29T07:41:34.940097Z"
    },
    "papermill": {
     "duration": 0.076777,
     "end_time": "2020-11-29T07:41:34.940249",
     "exception": false,
     "start_time": "2020-11-29T07:41:34.863472",
     "status": "completed"
    },
    "tags": []
   },
   "outputs": [],
   "source": [
    "# Stemming and Lemmatization examples\n",
    "text =  [ 'deduced', 'dogs', 'talking', 'studies']\n",
    "def Stemming_Lemmatizing(text):\n",
    "    # Lemmatizer\n",
    "    lemmatizer=nltk.stem.WordNetLemmatizer()\n",
    "    words=[lemmatizer.lemmatize(token) for token in text]\n",
    "    \n",
    "    # Stemmer\n",
    "    stemmer = nltk.stem.PorterStemmer()\n",
    "    words=[stemmer.stem(token) for token in text]\n",
    "\n",
    "    return words"
   ]
  },
  {
   "cell_type": "code",
   "execution_count": 24,
   "metadata": {
    "execution": {
     "iopub.execute_input": "2020-11-29T07:41:35.076893Z",
     "iopub.status.busy": "2020-11-29T07:41:35.076150Z",
     "iopub.status.idle": "2020-11-29T07:41:37.726471Z",
     "shell.execute_reply": "2020-11-29T07:41:37.725860Z"
    },
    "papermill": {
     "duration": 2.720786,
     "end_time": "2020-11-29T07:41:37.726604",
     "exception": false,
     "start_time": "2020-11-29T07:41:35.005818",
     "status": "completed"
    },
    "tags": []
   },
   "outputs": [
    {
     "data": {
      "text/plain": [
       "['deduc', 'dog', 'talk', 'studi']"
      ]
     },
     "execution_count": 24,
     "metadata": {},
     "output_type": "execute_result"
    }
   ],
   "source": [
    "Stemming_Lemmatizing(text)"
   ]
  },
  {
   "cell_type": "code",
   "execution_count": 25,
   "metadata": {
    "execution": {
     "iopub.execute_input": "2020-11-29T07:41:37.864231Z",
     "iopub.status.busy": "2020-11-29T07:41:37.863471Z",
     "iopub.status.idle": "2020-11-29T07:41:37.866407Z",
     "shell.execute_reply": "2020-11-29T07:41:37.865808Z"
    },
    "papermill": {
     "duration": 0.073,
     "end_time": "2020-11-29T07:41:37.866529",
     "exception": false,
     "start_time": "2020-11-29T07:41:37.793529",
     "status": "completed"
    },
    "tags": []
   },
   "outputs": [],
   "source": [
    "#tweet_df1['text'] = tweet_df1['text'].apply(lambda x : Stemming_Lemmatizing(x))\n",
    "#test_df1['text'] = test_df1['text'].apply(lambda x : Stemming_Lemmatizing(x))"
   ]
  },
  {
   "cell_type": "markdown",
   "metadata": {
    "papermill": {
     "duration": 0.065634,
     "end_time": "2020-11-29T07:41:37.998474",
     "exception": false,
     "start_time": "2020-11-29T07:41:37.932840",
     "status": "completed"
    },
    "tags": []
   },
   "source": [
    "### Convert the text list into string"
   ]
  },
  {
   "cell_type": "code",
   "execution_count": 26,
   "metadata": {
    "execution": {
     "iopub.execute_input": "2020-11-29T07:41:38.137969Z",
     "iopub.status.busy": "2020-11-29T07:41:38.137158Z",
     "iopub.status.idle": "2020-11-29T07:41:38.141007Z",
     "shell.execute_reply": "2020-11-29T07:41:38.141741Z"
    },
    "papermill": {
     "duration": 0.076983,
     "end_time": "2020-11-29T07:41:38.141939",
     "exception": false,
     "start_time": "2020-11-29T07:41:38.064956",
     "status": "completed"
    },
    "tags": []
   },
   "outputs": [
    {
     "name": "stdout",
     "output_type": "stream",
     "text": [
      "Geeks for Geeks\n"
     ]
    }
   ],
   "source": [
    "def listToString(s):  \n",
    "    \n",
    "    # initialize an empty string \n",
    "    str1 = \" \" \n",
    "    \n",
    "    # return string   \n",
    "    return (str1.join(s)) \n",
    "        \n",
    "        \n",
    "# Driver code     \n",
    "s = ['Geeks', 'for', 'Geeks'] \n",
    "print(listToString(s))  "
   ]
  },
  {
   "cell_type": "code",
   "execution_count": 27,
   "metadata": {
    "execution": {
     "iopub.execute_input": "2020-11-29T07:41:38.281267Z",
     "iopub.status.busy": "2020-11-29T07:41:38.280223Z",
     "iopub.status.idle": "2020-11-29T07:41:38.283727Z",
     "shell.execute_reply": "2020-11-29T07:41:38.283000Z"
    },
    "papermill": {
     "duration": 0.074568,
     "end_time": "2020-11-29T07:41:38.283843",
     "exception": false,
     "start_time": "2020-11-29T07:41:38.209275",
     "status": "completed"
    },
    "tags": []
   },
   "outputs": [],
   "source": [
    "#tweet_df1['text'] = tweet_df1['text'].apply(lambda x : listToString(x))\n",
    "#test_df1['text'] = test_df1['text'].apply(lambda x : listToString(x))"
   ]
  },
  {
   "cell_type": "markdown",
   "metadata": {
    "papermill": {
     "duration": 0.067759,
     "end_time": "2020-11-29T07:41:38.419306",
     "exception": false,
     "start_time": "2020-11-29T07:41:38.351547",
     "status": "completed"
    },
    "tags": []
   },
   "source": [
    "### Spell Checker"
   ]
  },
  {
   "cell_type": "code",
   "execution_count": 28,
   "metadata": {
    "execution": {
     "iopub.execute_input": "2020-11-29T07:41:38.607885Z",
     "iopub.status.busy": "2020-11-29T07:41:38.606985Z",
     "iopub.status.idle": "2020-11-29T07:41:48.711692Z",
     "shell.execute_reply": "2020-11-29T07:41:48.710924Z"
    },
    "papermill": {
     "duration": 10.177416,
     "end_time": "2020-11-29T07:41:48.711818",
     "exception": false,
     "start_time": "2020-11-29T07:41:38.534402",
     "status": "completed"
    },
    "tags": []
   },
   "outputs": [
    {
     "name": "stdout",
     "output_type": "stream",
     "text": [
      "Collecting pyspellchecker\r\n",
      "  Downloading pyspellchecker-0.5.5-py2.py3-none-any.whl (1.9 MB)\r\n",
      "\u001b[K     |████████████████████████████████| 1.9 MB 2.9 MB/s \r\n",
      "\u001b[?25hInstalling collected packages: pyspellchecker\r\n",
      "Successfully installed pyspellchecker-0.5.5\r\n",
      "\u001b[33mWARNING: You are using pip version 20.1.1; however, version 20.2.4 is available.\r\n",
      "You should consider upgrading via the '/opt/conda/bin/python3.7 -m pip install --upgrade pip' command.\u001b[0m\r\n"
     ]
    }
   ],
   "source": [
    "!pip install pyspellchecker\n"
   ]
  },
  {
   "cell_type": "code",
   "execution_count": 29,
   "metadata": {
    "execution": {
     "iopub.execute_input": "2020-11-29T07:41:48.865627Z",
     "iopub.status.busy": "2020-11-29T07:41:48.864880Z",
     "iopub.status.idle": "2020-11-29T07:41:49.059119Z",
     "shell.execute_reply": "2020-11-29T07:41:49.058379Z"
    },
    "papermill": {
     "duration": 0.274539,
     "end_time": "2020-11-29T07:41:49.059240",
     "exception": false,
     "start_time": "2020-11-29T07:41:48.784701",
     "status": "completed"
    },
    "tags": []
   },
   "outputs": [
    {
     "data": {
      "text/plain": [
       "'correct me please'"
      ]
     },
     "execution_count": 29,
     "metadata": {},
     "output_type": "execute_result"
    }
   ],
   "source": [
    "from spellchecker import SpellChecker\n",
    "\n",
    "spell = SpellChecker()\n",
    "def correct_spellings(text):\n",
    "    corrected_text = []\n",
    "    misspelled_words = spell.unknown(text.split())\n",
    "    for word in text.split():\n",
    "        if word in misspelled_words:\n",
    "            corrected_text.append(spell.correction(word))\n",
    "        else:\n",
    "            corrected_text.append(word)\n",
    "    return \" \".join(corrected_text)\n",
    "        \n",
    "text = \"corect me plese\"\n",
    "correct_spellings(text)"
   ]
  },
  {
   "cell_type": "code",
   "execution_count": 30,
   "metadata": {
    "execution": {
     "iopub.execute_input": "2020-11-29T07:41:49.216740Z",
     "iopub.status.busy": "2020-11-29T07:41:49.215795Z",
     "iopub.status.idle": "2020-11-29T07:41:49.220743Z",
     "shell.execute_reply": "2020-11-29T07:41:49.220135Z"
    },
    "papermill": {
     "duration": 0.089129,
     "end_time": "2020-11-29T07:41:49.220874",
     "exception": false,
     "start_time": "2020-11-29T07:41:49.131745",
     "status": "completed"
    },
    "tags": []
   },
   "outputs": [
    {
     "data": {
      "text/plain": [
       "0       [deeds, reason, earthquake, may, allah, forgiv...\n",
       "1           [forest, fire, near, la, ronge, sask, canada]\n",
       "2       [residents, asked, shelter, place, notified, o...\n",
       "3       [people, receive, wildfires, evacuation, order...\n",
       "4       [got, sent, photo, ruby, alaska, smoke, wildfi...\n",
       "                              ...                        \n",
       "7608    [two, giant, cranes, holding, bridge, collapse...\n",
       "7609    [ariaahrary, thetawniest, control, wild, fires...\n",
       "7610                                    [volcano, hawaii]\n",
       "7611    [police, investigating, ebike, collided, car, ...\n",
       "7612    [latest, homes, razed, northern, california, w...\n",
       "Name: text, Length: 7613, dtype: object"
      ]
     },
     "execution_count": 30,
     "metadata": {},
     "output_type": "execute_result"
    }
   ],
   "source": [
    "tweet_df1['text']"
   ]
  },
  {
   "cell_type": "code",
   "execution_count": 31,
   "metadata": {
    "execution": {
     "iopub.execute_input": "2020-11-29T07:41:49.378633Z",
     "iopub.status.busy": "2020-11-29T07:41:49.377552Z",
     "iopub.status.idle": "2020-11-29T07:41:49.384689Z",
     "shell.execute_reply": "2020-11-29T07:41:49.383945Z"
    },
    "papermill": {
     "duration": 0.090524,
     "end_time": "2020-11-29T07:41:49.384813",
     "exception": false,
     "start_time": "2020-11-29T07:41:49.294289",
     "status": "completed"
    },
    "tags": []
   },
   "outputs": [
    {
     "data": {
      "text/plain": [
       "(10876, 5)"
      ]
     },
     "execution_count": 31,
     "metadata": {},
     "output_type": "execute_result"
    }
   ],
   "source": [
    "df=pd.concat([tweet_df1,test_df1])\n",
    "df.shape"
   ]
  },
  {
   "cell_type": "markdown",
   "metadata": {
    "papermill": {
     "duration": 0.073478,
     "end_time": "2020-11-29T07:41:49.532389",
     "exception": false,
     "start_time": "2020-11-29T07:41:49.458911",
     "status": "completed"
    },
    "tags": []
   },
   "source": [
    "## GloVe for Vectorization"
   ]
  },
  {
   "cell_type": "code",
   "execution_count": 32,
   "metadata": {
    "execution": {
     "iopub.execute_input": "2020-11-29T07:41:49.687358Z",
     "iopub.status.busy": "2020-11-29T07:41:49.686578Z",
     "iopub.status.idle": "2020-11-29T07:41:49.689794Z",
     "shell.execute_reply": "2020-11-29T07:41:49.689063Z"
    },
    "papermill": {
     "duration": 0.083632,
     "end_time": "2020-11-29T07:41:49.689918",
     "exception": false,
     "start_time": "2020-11-29T07:41:49.606286",
     "status": "completed"
    },
    "tags": []
   },
   "outputs": [],
   "source": [
    "def create_corpus(df):\n",
    "    corpus=[]\n",
    "    for tweet in tqdm(df['text']):\n",
    "        words=[word.lower() for word in tweet if((word.isalpha()==1) )]\n",
    "        corpus.append(words)\n",
    "    return corpus"
   ]
  },
  {
   "cell_type": "code",
   "execution_count": 33,
   "metadata": {
    "execution": {
     "iopub.execute_input": "2020-11-29T07:41:49.845131Z",
     "iopub.status.busy": "2020-11-29T07:41:49.844074Z",
     "iopub.status.idle": "2020-11-29T07:41:49.912598Z",
     "shell.execute_reply": "2020-11-29T07:41:49.911879Z"
    },
    "papermill": {
     "duration": 0.147995,
     "end_time": "2020-11-29T07:41:49.912726",
     "exception": false,
     "start_time": "2020-11-29T07:41:49.764731",
     "status": "completed"
    },
    "tags": []
   },
   "outputs": [
    {
     "name": "stderr",
     "output_type": "stream",
     "text": [
      "100%|██████████| 10876/10876 [00:00<00:00, 177230.08it/s]\n"
     ]
    }
   ],
   "source": [
    "corpus=create_corpus(df)\n"
   ]
  },
  {
   "cell_type": "code",
   "execution_count": 34,
   "metadata": {
    "execution": {
     "iopub.execute_input": "2020-11-29T07:41:50.071096Z",
     "iopub.status.busy": "2020-11-29T07:41:50.070251Z",
     "iopub.status.idle": "2020-11-29T07:42:31.520008Z",
     "shell.execute_reply": "2020-11-29T07:42:31.519203Z"
    },
    "papermill": {
     "duration": 41.532486,
     "end_time": "2020-11-29T07:42:31.520177",
     "exception": false,
     "start_time": "2020-11-29T07:41:49.987691",
     "status": "completed"
    },
    "tags": []
   },
   "outputs": [],
   "source": [
    "embedding_dict={}\n",
    "with open('../input/glove-global-vectors-for-word-representation/glove.6B.200d.txt','r') as f:\n",
    "    for line in f:\n",
    "        values=line.split()\n",
    "        word=values[0]\n",
    "        vectors=np.asarray(values[1:],'float32')\n",
    "        embedding_dict[word]=vectors\n",
    "f.close()"
   ]
  },
  {
   "cell_type": "code",
   "execution_count": 35,
   "metadata": {
    "execution": {
     "iopub.execute_input": "2020-11-29T07:42:31.691368Z",
     "iopub.status.busy": "2020-11-29T07:42:31.686325Z",
     "iopub.status.idle": "2020-11-29T07:42:32.004780Z",
     "shell.execute_reply": "2020-11-29T07:42:32.003950Z"
    },
    "papermill": {
     "duration": 0.40776,
     "end_time": "2020-11-29T07:42:32.004910",
     "exception": false,
     "start_time": "2020-11-29T07:42:31.597150",
     "status": "completed"
    },
    "tags": []
   },
   "outputs": [],
   "source": [
    "MAX_LEN=50\n",
    "tokenizer_obj=Tokenizer()\n",
    "tokenizer_obj.fit_on_texts(corpus)\n",
    "sequences=tokenizer_obj.texts_to_sequences(corpus)\n",
    "\n",
    "tweet_pad=pad_sequences(sequences,maxlen=MAX_LEN,truncating='post',padding='post')"
   ]
  },
  {
   "cell_type": "code",
   "execution_count": 36,
   "metadata": {
    "execution": {
     "iopub.execute_input": "2020-11-29T07:42:32.163468Z",
     "iopub.status.busy": "2020-11-29T07:42:32.162458Z",
     "iopub.status.idle": "2020-11-29T07:42:32.166586Z",
     "shell.execute_reply": "2020-11-29T07:42:32.165963Z"
    },
    "papermill": {
     "duration": 0.085391,
     "end_time": "2020-11-29T07:42:32.166720",
     "exception": false,
     "start_time": "2020-11-29T07:42:32.081329",
     "status": "completed"
    },
    "tags": []
   },
   "outputs": [
    {
     "data": {
      "text/plain": [
       "(10876, 50)"
      ]
     },
     "execution_count": 36,
     "metadata": {},
     "output_type": "execute_result"
    }
   ],
   "source": [
    "tweet_pad.shape"
   ]
  },
  {
   "cell_type": "code",
   "execution_count": 37,
   "metadata": {
    "execution": {
     "iopub.execute_input": "2020-11-29T07:42:32.326418Z",
     "iopub.status.busy": "2020-11-29T07:42:32.325448Z",
     "iopub.status.idle": "2020-11-29T07:42:32.330140Z",
     "shell.execute_reply": "2020-11-29T07:42:32.329394Z"
    },
    "papermill": {
     "duration": 0.085947,
     "end_time": "2020-11-29T07:42:32.330264",
     "exception": false,
     "start_time": "2020-11-29T07:42:32.244317",
     "status": "completed"
    },
    "tags": []
   },
   "outputs": [
    {
     "name": "stdout",
     "output_type": "stream",
     "text": [
      "Number of unique words: 20680\n"
     ]
    }
   ],
   "source": [
    "word_index=tokenizer_obj.word_index\n",
    "print('Number of unique words:',len(word_index))"
   ]
  },
  {
   "cell_type": "markdown",
   "metadata": {
    "papermill": {
     "duration": 0.076085,
     "end_time": "2020-11-29T07:42:32.483180",
     "exception": false,
     "start_time": "2020-11-29T07:42:32.407095",
     "status": "completed"
    },
    "tags": []
   },
   "source": [
    "## Create an Embedding Matrix"
   ]
  },
  {
   "cell_type": "code",
   "execution_count": 38,
   "metadata": {
    "execution": {
     "iopub.execute_input": "2020-11-29T07:42:32.644699Z",
     "iopub.status.busy": "2020-11-29T07:42:32.643802Z",
     "iopub.status.idle": "2020-11-29T07:42:32.737190Z",
     "shell.execute_reply": "2020-11-29T07:42:32.737779Z"
    },
    "papermill": {
     "duration": 0.178241,
     "end_time": "2020-11-29T07:42:32.737930",
     "exception": false,
     "start_time": "2020-11-29T07:42:32.559689",
     "status": "completed"
    },
    "tags": []
   },
   "outputs": [
    {
     "name": "stderr",
     "output_type": "stream",
     "text": [
      "100%|██████████| 20680/20680 [00:00<00:00, 234544.22it/s]\n"
     ]
    }
   ],
   "source": [
    "num_words=len(word_index)+1\n",
    "\n",
    "embedding_matrix=np.zeros((num_words,200))\n",
    "\n",
    "for word,i in tqdm(word_index.items()):\n",
    "    if i > num_words:\n",
    "        continue\n",
    "    \n",
    "    emb_vec=embedding_dict.get(word)\n",
    "    if emb_vec is not None:\n",
    "        embedding_matrix[i]=emb_vec"
   ]
  },
  {
   "cell_type": "code",
   "execution_count": 39,
   "metadata": {
    "execution": {
     "iopub.execute_input": "2020-11-29T07:42:32.900526Z",
     "iopub.status.busy": "2020-11-29T07:42:32.899684Z",
     "iopub.status.idle": "2020-11-29T07:42:32.903914Z",
     "shell.execute_reply": "2020-11-29T07:42:32.903204Z"
    },
    "papermill": {
     "duration": 0.08719,
     "end_time": "2020-11-29T07:42:32.904051",
     "exception": false,
     "start_time": "2020-11-29T07:42:32.816861",
     "status": "completed"
    },
    "tags": []
   },
   "outputs": [
    {
     "data": {
      "text/plain": [
       "20681"
      ]
     },
     "execution_count": 39,
     "metadata": {},
     "output_type": "execute_result"
    }
   ],
   "source": [
    "num_words"
   ]
  },
  {
   "cell_type": "markdown",
   "metadata": {
    "papermill": {
     "duration": 0.07863,
     "end_time": "2020-11-29T07:42:33.061355",
     "exception": false,
     "start_time": "2020-11-29T07:42:32.982725",
     "status": "completed"
    },
    "tags": []
   },
   "source": [
    "### Initiating TPU "
   ]
  },
  {
   "cell_type": "code",
   "execution_count": 40,
   "metadata": {
    "execution": {
     "iopub.execute_input": "2020-11-29T07:42:33.320435Z",
     "iopub.status.busy": "2020-11-29T07:42:33.233839Z",
     "iopub.status.idle": "2020-11-29T07:42:37.284371Z",
     "shell.execute_reply": "2020-11-29T07:42:37.283734Z"
    },
    "papermill": {
     "duration": 4.144694,
     "end_time": "2020-11-29T07:42:37.284506",
     "exception": false,
     "start_time": "2020-11-29T07:42:33.139812",
     "status": "completed"
    },
    "tags": []
   },
   "outputs": [],
   "source": [
    "import tensorflow as tf\n",
    "# detect and init the TPU\n",
    "tpu = tf.distribute.cluster_resolver.TPUClusterResolver()\n",
    "tf.config.experimental_connect_to_cluster(tpu)\n",
    "tf.tpu.experimental.initialize_tpu_system(tpu)\n",
    "\n",
    "# instantiate a distribution strategy\n",
    "tpu_strategy = tf.distribute.experimental.TPUStrategy(tpu)"
   ]
  },
  {
   "cell_type": "markdown",
   "metadata": {
    "papermill": {
     "duration": 0.078616,
     "end_time": "2020-11-29T07:42:37.442359",
     "exception": false,
     "start_time": "2020-11-29T07:42:37.363743",
     "status": "completed"
    },
    "tags": []
   },
   "source": [
    "## Creating a Baseline Model"
   ]
  },
  {
   "cell_type": "code",
   "execution_count": 41,
   "metadata": {
    "execution": {
     "iopub.execute_input": "2020-11-29T07:42:37.610856Z",
     "iopub.status.busy": "2020-11-29T07:42:37.610145Z",
     "iopub.status.idle": "2020-11-29T07:42:38.928146Z",
     "shell.execute_reply": "2020-11-29T07:42:38.927200Z"
    },
    "papermill": {
     "duration": 1.407352,
     "end_time": "2020-11-29T07:42:38.928296",
     "exception": false,
     "start_time": "2020-11-29T07:42:37.520944",
     "status": "completed"
    },
    "tags": []
   },
   "outputs": [],
   "source": [
    "with tpu_strategy.scope():\n",
    "    model=Sequential()\n",
    "\n",
    "    embedding=Embedding(num_words,200,embeddings_initializer=Constant(embedding_matrix),\n",
    "                   input_length=MAX_LEN,trainable=False)\n",
    "\n",
    "    model.add(embedding)\n",
    "    model.add(SpatialDropout1D(0.2))\n",
    "    model.add(LSTM(64, dropout=0.2, recurrent_dropout=0.2))\n",
    "    model.add(Dense(1, activation='sigmoid'))\n",
    "\n",
    "\n",
    "    optimzer=Adam(learning_rate=1e-5)\n",
    "\n",
    "    model.compile(loss='binary_crossentropy',optimizer=optimzer,metrics=['accuracy'])"
   ]
  },
  {
   "cell_type": "code",
   "execution_count": 42,
   "metadata": {
    "execution": {
     "iopub.execute_input": "2020-11-29T07:42:39.095766Z",
     "iopub.status.busy": "2020-11-29T07:42:39.094787Z",
     "iopub.status.idle": "2020-11-29T07:42:39.097991Z",
     "shell.execute_reply": "2020-11-29T07:42:39.097403Z"
    },
    "papermill": {
     "duration": 0.088197,
     "end_time": "2020-11-29T07:42:39.098142",
     "exception": false,
     "start_time": "2020-11-29T07:42:39.009945",
     "status": "completed"
    },
    "tags": []
   },
   "outputs": [],
   "source": [
    "train=tweet_pad[:tweet.shape[0]]\n",
    "test=tweet_pad[tweet.shape[0]:]"
   ]
  },
  {
   "cell_type": "markdown",
   "metadata": {
    "papermill": {
     "duration": 0.079238,
     "end_time": "2020-11-29T07:42:39.256924",
     "exception": false,
     "start_time": "2020-11-29T07:42:39.177686",
     "status": "completed"
    },
    "tags": []
   },
   "source": [
    "## Split  training and validation set"
   ]
  },
  {
   "cell_type": "code",
   "execution_count": 43,
   "metadata": {
    "execution": {
     "iopub.execute_input": "2020-11-29T07:42:39.422620Z",
     "iopub.status.busy": "2020-11-29T07:42:39.421826Z",
     "iopub.status.idle": "2020-11-29T07:42:39.428255Z",
     "shell.execute_reply": "2020-11-29T07:42:39.427486Z"
    },
    "papermill": {
     "duration": 0.092142,
     "end_time": "2020-11-29T07:42:39.428378",
     "exception": false,
     "start_time": "2020-11-29T07:42:39.336236",
     "status": "completed"
    },
    "tags": []
   },
   "outputs": [
    {
     "name": "stdout",
     "output_type": "stream",
     "text": [
      "Shape of train (6471, 50)\n",
      "Shape of Validation  (1142, 50)\n"
     ]
    }
   ],
   "source": [
    "X_train,X_test,y_train,y_test=train_test_split(train,tweet['target'].values,test_size=0.15)\n",
    "print('Shape of train',X_train.shape)\n",
    "print(\"Shape of Validation \",X_test.shape)"
   ]
  },
  {
   "cell_type": "code",
   "execution_count": 44,
   "metadata": {
    "execution": {
     "iopub.execute_input": "2020-11-29T07:42:39.598586Z",
     "iopub.status.busy": "2020-11-29T07:42:39.597678Z",
     "iopub.status.idle": "2020-11-29T07:44:18.529709Z",
     "shell.execute_reply": "2020-11-29T07:44:18.528895Z"
    },
    "papermill": {
     "duration": 99.021953,
     "end_time": "2020-11-29T07:44:18.529850",
     "exception": false,
     "start_time": "2020-11-29T07:42:39.507897",
     "status": "completed"
    },
    "tags": []
   },
   "outputs": [
    {
     "name": "stdout",
     "output_type": "stream",
     "text": [
      "Epoch 1/15\n",
      "405/405 [==============================] - 8s 19ms/step - loss: 0.6921 - accuracy: 0.5715 - val_loss: 0.6914 - val_accuracy: 0.5578\n",
      "Epoch 2/15\n",
      "405/405 [==============================] - 6s 15ms/step - loss: 0.6854 - accuracy: 0.5726 - val_loss: 0.6591 - val_accuracy: 0.5683\n",
      "Epoch 3/15\n",
      "405/405 [==============================] - 6s 15ms/step - loss: 0.5895 - accuracy: 0.7130 - val_loss: 0.5358 - val_accuracy: 0.7636\n",
      "Epoch 4/15\n",
      "405/405 [==============================] - 6s 14ms/step - loss: 0.5464 - accuracy: 0.7493 - val_loss: 0.5160 - val_accuracy: 0.7662\n",
      "Epoch 5/15\n",
      "405/405 [==============================] - 6s 15ms/step - loss: 0.5309 - accuracy: 0.7560 - val_loss: 0.5046 - val_accuracy: 0.7680\n",
      "Epoch 6/15\n",
      "405/405 [==============================] - 6s 15ms/step - loss: 0.5181 - accuracy: 0.7603 - val_loss: 0.4971 - val_accuracy: 0.7750\n",
      "Epoch 7/15\n",
      "405/405 [==============================] - 6s 15ms/step - loss: 0.5106 - accuracy: 0.7668 - val_loss: 0.4919 - val_accuracy: 0.7776\n",
      "Epoch 8/15\n",
      "405/405 [==============================] - 6s 14ms/step - loss: 0.5023 - accuracy: 0.7697 - val_loss: 0.4881 - val_accuracy: 0.7811\n",
      "Epoch 9/15\n",
      "405/405 [==============================] - 6s 15ms/step - loss: 0.4941 - accuracy: 0.7776 - val_loss: 0.4859 - val_accuracy: 0.7837\n",
      "Epoch 10/15\n",
      "405/405 [==============================] - 6s 15ms/step - loss: 0.4909 - accuracy: 0.7786 - val_loss: 0.4829 - val_accuracy: 0.7855\n",
      "Epoch 11/15\n",
      "405/405 [==============================] - 6s 15ms/step - loss: 0.4921 - accuracy: 0.7772 - val_loss: 0.4804 - val_accuracy: 0.7846\n",
      "Epoch 12/15\n",
      "405/405 [==============================] - 6s 15ms/step - loss: 0.4863 - accuracy: 0.7830 - val_loss: 0.4783 - val_accuracy: 0.7863\n",
      "Epoch 13/15\n",
      "405/405 [==============================] - 6s 14ms/step - loss: 0.4811 - accuracy: 0.7837 - val_loss: 0.4766 - val_accuracy: 0.7881\n",
      "Epoch 14/15\n",
      "405/405 [==============================] - 6s 15ms/step - loss: 0.4779 - accuracy: 0.7855 - val_loss: 0.4750 - val_accuracy: 0.7890\n",
      "Epoch 15/15\n",
      "405/405 [==============================] - 6s 14ms/step - loss: 0.4793 - accuracy: 0.7857 - val_loss: 0.4730 - val_accuracy: 0.7872\n"
     ]
    }
   ],
   "source": [
    "history=model.fit(X_train,y_train,batch_size=16,epochs=15,validation_data=(X_test,y_test),verbose=True)"
   ]
  },
  {
   "cell_type": "code",
   "execution_count": 45,
   "metadata": {
    "execution": {
     "iopub.execute_input": "2020-11-29T07:44:19.729449Z",
     "iopub.status.busy": "2020-11-29T07:44:19.728366Z",
     "iopub.status.idle": "2020-11-29T07:44:19.731283Z",
     "shell.execute_reply": "2020-11-29T07:44:19.731805Z"
    },
    "papermill": {
     "duration": 0.603274,
     "end_time": "2020-11-29T07:44:19.731958",
     "exception": false,
     "start_time": "2020-11-29T07:44:19.128684",
     "status": "completed"
    },
    "tags": []
   },
   "outputs": [],
   "source": [
    "#Creating a callback Function\n",
    "from keras.callbacks import Callback, ModelCheckpoint, EarlyStopping, ReduceLROnPlateau\n",
    "\n",
    "callbacks = [\n",
    "             ReduceLROnPlateau(monitor='val_accuracy', \n",
    "                               factor=0.2, \n",
    "                               patience=3, \n",
    "                               verbose=1)]\n",
    "\n",
    "filter_length1 = 3\n",
    "filter_length2 = 5\n",
    "dropout=0.5\n",
    "nb_filter = 64\n",
    "learning_rate=3e-3\n"
   ]
  },
  {
   "cell_type": "markdown",
   "metadata": {
    "papermill": {
     "duration": 0.606959,
     "end_time": "2020-11-29T07:44:20.948474",
     "exception": false,
     "start_time": "2020-11-29T07:44:20.341515",
     "status": "completed"
    },
    "tags": []
   },
   "source": [
    "## Adding a Cnn layer"
   ]
  },
  {
   "cell_type": "code",
   "execution_count": 46,
   "metadata": {
    "execution": {
     "iopub.execute_input": "2020-11-29T07:44:22.177359Z",
     "iopub.status.busy": "2020-11-29T07:44:22.176253Z",
     "iopub.status.idle": "2020-11-29T07:44:23.109129Z",
     "shell.execute_reply": "2020-11-29T07:44:23.109770Z"
    },
    "papermill": {
     "duration": 1.549998,
     "end_time": "2020-11-29T07:44:23.109925",
     "exception": false,
     "start_time": "2020-11-29T07:44:21.559927",
     "status": "completed"
    },
    "tags": []
   },
   "outputs": [],
   "source": [
    "with tpu_strategy.scope():\n",
    "    model=Sequential()\n",
    "\n",
    "    embedding=Embedding(input_dim=num_words,output_dim=200,embeddings_initializer=Constant(embedding_matrix),\n",
    "                   input_length=MAX_LEN,trainable=False)\n",
    "\n",
    "    model.add(embedding)\n",
    "    model.add(SpatialDropout1D(0.2))\n",
    "   \n",
    "    model.add(Conv1D(filters = 64, kernel_size = 5,padding = 'same', activation='relu'))\n",
    "    model.add(MaxPooling1D(pool_size=4))\n",
    "    model.add(LSTM(64, dropout=0.2, recurrent_dropout=0.2))\n",
    "    model.add(Dense(1, activation='sigmoid'))\n",
    "\n",
    "\n",
    "\n",
    "\n",
    "    model.compile(loss='binary_crossentropy', optimizer=Adam(lr=learning_rate),metrics=['accuracy'])\n",
    "    "
   ]
  },
  {
   "cell_type": "code",
   "execution_count": 47,
   "metadata": {
    "execution": {
     "iopub.execute_input": "2020-11-29T07:44:24.326687Z",
     "iopub.status.busy": "2020-11-29T07:44:24.325731Z",
     "iopub.status.idle": "2020-11-29T07:44:24.329349Z",
     "shell.execute_reply": "2020-11-29T07:44:24.331364Z"
    },
    "papermill": {
     "duration": 0.621105,
     "end_time": "2020-11-29T07:44:24.331563",
     "exception": false,
     "start_time": "2020-11-29T07:44:23.710458",
     "status": "completed"
    },
    "tags": []
   },
   "outputs": [
    {
     "name": "stdout",
     "output_type": "stream",
     "text": [
      "Model: \"sequential_1\"\n",
      "_________________________________________________________________\n",
      "Layer (type)                 Output Shape              Param #   \n",
      "=================================================================\n",
      "embedding_1 (Embedding)      (None, 50, 200)           4136200   \n",
      "_________________________________________________________________\n",
      "spatial_dropout1d_1 (Spatial (None, 50, 200)           0         \n",
      "_________________________________________________________________\n",
      "conv1d (Conv1D)              (None, 50, 64)            64064     \n",
      "_________________________________________________________________\n",
      "max_pooling1d (MaxPooling1D) (None, 12, 64)            0         \n",
      "_________________________________________________________________\n",
      "lstm_1 (LSTM)                (None, 64)                33024     \n",
      "_________________________________________________________________\n",
      "dense_1 (Dense)              (None, 1)                 65        \n",
      "=================================================================\n",
      "Total params: 4,233,353\n",
      "Trainable params: 97,153\n",
      "Non-trainable params: 4,136,200\n",
      "_________________________________________________________________\n"
     ]
    }
   ],
   "source": [
    "model.summary()"
   ]
  },
  {
   "cell_type": "code",
   "execution_count": 48,
   "metadata": {
    "execution": {
     "iopub.execute_input": "2020-11-29T07:44:25.531762Z",
     "iopub.status.busy": "2020-11-29T07:44:25.530655Z",
     "iopub.status.idle": "2020-11-29T07:49:54.979252Z",
     "shell.execute_reply": "2020-11-29T07:49:54.978478Z"
    },
    "papermill": {
     "duration": 330.053252,
     "end_time": "2020-11-29T07:49:54.979388",
     "exception": false,
     "start_time": "2020-11-29T07:44:24.926136",
     "status": "completed"
    },
    "tags": []
   },
   "outputs": [
    {
     "name": "stdout",
     "output_type": "stream",
     "text": [
      "Epoch 1/30\n",
      "809/809 [==============================] - 12s 15ms/step - loss: 0.4953 - accuracy: 0.7742 - val_loss: 0.4650 - val_accuracy: 0.7933 - lr: 0.0030\n",
      "Epoch 2/30\n",
      "809/809 [==============================] - 10s 12ms/step - loss: 0.4306 - accuracy: 0.8142 - val_loss: 0.4922 - val_accuracy: 0.7872 - lr: 0.0030\n",
      "Epoch 3/30\n",
      "809/809 [==============================] - 11s 13ms/step - loss: 0.3917 - accuracy: 0.8371 - val_loss: 0.5135 - val_accuracy: 0.7863 - lr: 0.0030\n",
      "Epoch 4/30\n",
      "805/809 [============================>.] - ETA: 0s - loss: 0.3615 - accuracy: 0.8528\n",
      "Epoch 00004: ReduceLROnPlateau reducing learning rate to 0.0006000000052154065.\n",
      "809/809 [==============================] - 11s 13ms/step - loss: 0.3620 - accuracy: 0.8524 - val_loss: 0.4595 - val_accuracy: 0.7898 - lr: 0.0030\n",
      "Epoch 5/30\n",
      "809/809 [==============================] - 11s 13ms/step - loss: 0.2958 - accuracy: 0.8880 - val_loss: 0.5224 - val_accuracy: 0.7986 - lr: 6.0000e-04\n",
      "Epoch 6/30\n",
      "809/809 [==============================] - 11s 13ms/step - loss: 0.2629 - accuracy: 0.9059 - val_loss: 0.5513 - val_accuracy: 0.7933 - lr: 6.0000e-04\n",
      "Epoch 7/30\n",
      "809/809 [==============================] - 11s 13ms/step - loss: 0.2525 - accuracy: 0.9077 - val_loss: 0.5754 - val_accuracy: 0.7933 - lr: 6.0000e-04\n",
      "Epoch 8/30\n",
      "806/809 [============================>.] - ETA: 0s - loss: 0.2332 - accuracy: 0.9141\n",
      "Epoch 00008: ReduceLROnPlateau reducing learning rate to 0.00012000000569969416.\n",
      "809/809 [==============================] - 11s 13ms/step - loss: 0.2327 - accuracy: 0.9144 - val_loss: 0.5851 - val_accuracy: 0.7925 - lr: 6.0000e-04\n",
      "Epoch 9/30\n",
      "809/809 [==============================] - 11s 13ms/step - loss: 0.2123 - accuracy: 0.9264 - val_loss: 0.6186 - val_accuracy: 0.7925 - lr: 1.2000e-04\n",
      "Epoch 10/30\n",
      "809/809 [==============================] - 11s 13ms/step - loss: 0.2109 - accuracy: 0.9264 - val_loss: 0.6298 - val_accuracy: 0.7890 - lr: 1.2000e-04\n",
      "Epoch 11/30\n",
      "809/809 [==============================] - ETA: 0s - loss: 0.2035 - accuracy: 0.9246\n",
      "Epoch 00011: ReduceLROnPlateau reducing learning rate to 2.4000000848900527e-05.\n",
      "809/809 [==============================] - 11s 13ms/step - loss: 0.2035 - accuracy: 0.9246 - val_loss: 0.6257 - val_accuracy: 0.7855 - lr: 1.2000e-04\n",
      "Epoch 12/30\n",
      "809/809 [==============================] - 11s 13ms/step - loss: 0.1988 - accuracy: 0.9292 - val_loss: 0.6312 - val_accuracy: 0.7863 - lr: 2.4000e-05\n",
      "Epoch 13/30\n",
      "809/809 [==============================] - 11s 13ms/step - loss: 0.1968 - accuracy: 0.9295 - val_loss: 0.6394 - val_accuracy: 0.7846 - lr: 2.4000e-05\n",
      "Epoch 14/30\n",
      "806/809 [============================>.] - ETA: 0s - loss: 0.2017 - accuracy: 0.9282\n",
      "Epoch 00014: ReduceLROnPlateau reducing learning rate to 4.800000169780105e-06.\n",
      "809/809 [==============================] - 11s 13ms/step - loss: 0.2013 - accuracy: 0.9283 - val_loss: 0.6394 - val_accuracy: 0.7863 - lr: 2.4000e-05\n",
      "Epoch 15/30\n",
      "809/809 [==============================] - 11s 13ms/step - loss: 0.1959 - accuracy: 0.9305 - val_loss: 0.6412 - val_accuracy: 0.7863 - lr: 4.8000e-06\n",
      "Epoch 16/30\n",
      "809/809 [==============================] - 11s 14ms/step - loss: 0.1963 - accuracy: 0.9325 - val_loss: 0.6425 - val_accuracy: 0.7855 - lr: 4.8000e-06\n",
      "Epoch 17/30\n",
      "805/809 [============================>.] - ETA: 0s - loss: 0.1972 - accuracy: 0.9312\n",
      "Epoch 00017: ReduceLROnPlateau reducing learning rate to 9.60000033956021e-07.\n",
      "809/809 [==============================] - 11s 14ms/step - loss: 0.1967 - accuracy: 0.9315 - val_loss: 0.6434 - val_accuracy: 0.7855 - lr: 4.8000e-06\n",
      "Epoch 18/30\n",
      "809/809 [==============================] - 11s 13ms/step - loss: 0.2023 - accuracy: 0.9286 - val_loss: 0.6436 - val_accuracy: 0.7855 - lr: 9.6000e-07\n",
      "Epoch 19/30\n",
      "809/809 [==============================] - 11s 13ms/step - loss: 0.2019 - accuracy: 0.9286 - val_loss: 0.6436 - val_accuracy: 0.7855 - lr: 9.6000e-07\n",
      "Epoch 20/30\n",
      "809/809 [==============================] - ETA: 0s - loss: 0.1992 - accuracy: 0.9269\n",
      "Epoch 00020: ReduceLROnPlateau reducing learning rate to 1.9200001588615123e-07.\n",
      "809/809 [==============================] - 11s 14ms/step - loss: 0.1992 - accuracy: 0.9269 - val_loss: 0.6439 - val_accuracy: 0.7846 - lr: 9.6000e-07\n",
      "Epoch 21/30\n",
      "809/809 [==============================] - 11s 13ms/step - loss: 0.2012 - accuracy: 0.9275 - val_loss: 0.6439 - val_accuracy: 0.7846 - lr: 1.9200e-07\n",
      "Epoch 22/30\n",
      "809/809 [==============================] - 11s 13ms/step - loss: 0.1911 - accuracy: 0.9309 - val_loss: 0.6439 - val_accuracy: 0.7846 - lr: 1.9200e-07\n",
      "Epoch 23/30\n",
      "806/809 [============================>.] - ETA: 0s - loss: 0.1980 - accuracy: 0.9280\n",
      "Epoch 00023: ReduceLROnPlateau reducing learning rate to 3.8400003177230246e-08.\n",
      "809/809 [==============================] - 11s 13ms/step - loss: 0.1978 - accuracy: 0.9281 - val_loss: 0.6439 - val_accuracy: 0.7855 - lr: 1.9200e-07\n",
      "Epoch 24/30\n",
      "809/809 [==============================] - 11s 13ms/step - loss: 0.1895 - accuracy: 0.9345 - val_loss: 0.6439 - val_accuracy: 0.7855 - lr: 3.8400e-08\n",
      "Epoch 25/30\n",
      "809/809 [==============================] - 10s 13ms/step - loss: 0.1972 - accuracy: 0.9311 - val_loss: 0.6439 - val_accuracy: 0.7846 - lr: 3.8400e-08\n",
      "Epoch 26/30\n",
      "805/809 [============================>.] - ETA: 0s - loss: 0.1942 - accuracy: 0.9292\n",
      "Epoch 00026: ReduceLROnPlateau reducing learning rate to 7.68000063544605e-09.\n",
      "809/809 [==============================] - 11s 13ms/step - loss: 0.1948 - accuracy: 0.9288 - val_loss: 0.6439 - val_accuracy: 0.7846 - lr: 3.8400e-08\n",
      "Epoch 27/30\n",
      "809/809 [==============================] - 10s 13ms/step - loss: 0.2011 - accuracy: 0.9275 - val_loss: 0.6439 - val_accuracy: 0.7846 - lr: 7.6800e-09\n",
      "Epoch 28/30\n",
      "809/809 [==============================] - 11s 13ms/step - loss: 0.1948 - accuracy: 0.9312 - val_loss: 0.6439 - val_accuracy: 0.7846 - lr: 7.6800e-09\n",
      "Epoch 29/30\n",
      "808/809 [============================>.] - ETA: 0s - loss: 0.1937 - accuracy: 0.9315\n",
      "Epoch 00029: ReduceLROnPlateau reducing learning rate to 1.53600012708921e-09.\n",
      "809/809 [==============================] - 10s 13ms/step - loss: 0.1935 - accuracy: 0.9315 - val_loss: 0.6439 - val_accuracy: 0.7846 - lr: 7.6800e-09\n",
      "Epoch 30/30\n",
      "809/809 [==============================] - 11s 13ms/step - loss: 0.1947 - accuracy: 0.9303 - val_loss: 0.6439 - val_accuracy: 0.7846 - lr: 1.5360e-09\n"
     ]
    }
   ],
   "source": [
    "history=model.fit(X_train,y_train,batch_size=8,epochs=30,validation_data=(X_test,y_test),verbose=True,callbacks = callbacks)\n"
   ]
  },
  {
   "cell_type": "code",
   "execution_count": 49,
   "metadata": {
    "execution": {
     "iopub.execute_input": "2020-11-29T07:50:00.169311Z",
     "iopub.status.busy": "2020-11-29T07:50:00.168536Z",
     "iopub.status.idle": "2020-11-29T07:50:00.860044Z",
     "shell.execute_reply": "2020-11-29T07:50:00.859260Z"
    },
    "papermill": {
     "duration": 3.32118,
     "end_time": "2020-11-29T07:50:00.860173",
     "exception": false,
     "start_time": "2020-11-29T07:49:57.538993",
     "status": "completed"
    },
    "tags": []
   },
   "outputs": [],
   "source": [
    "import keras\n",
    "model1 = keras.models.Sequential([\n",
    "    keras.layers.Embedding(input_dim=num_words,output_dim=200,embeddings_initializer=Constant(embedding_matrix),input_length=MAX_LEN,trainable=False),\n",
    "    keras.layers.LSTM(100,return_sequences=True),\n",
    "    keras.layers.LSTM(200),\n",
    "    keras.layers.Dropout(0.5),\n",
    "    keras.layers.Dense(1,activation='sigmoid')\n",
    "])\n"
   ]
  },
  {
   "cell_type": "code",
   "execution_count": 50,
   "metadata": {
    "execution": {
     "iopub.execute_input": "2020-11-29T07:50:06.024152Z",
     "iopub.status.busy": "2020-11-29T07:50:06.023113Z",
     "iopub.status.idle": "2020-11-29T07:50:06.028352Z",
     "shell.execute_reply": "2020-11-29T07:50:06.029244Z"
    },
    "papermill": {
     "duration": 2.575353,
     "end_time": "2020-11-29T07:50:06.029449",
     "exception": false,
     "start_time": "2020-11-29T07:50:03.454096",
     "status": "completed"
    },
    "tags": []
   },
   "outputs": [
    {
     "name": "stdout",
     "output_type": "stream",
     "text": [
      "Model: \"sequential_2\"\n",
      "_________________________________________________________________\n",
      "Layer (type)                 Output Shape              Param #   \n",
      "=================================================================\n",
      "embedding_2 (Embedding)      (None, 50, 200)           4136200   \n",
      "_________________________________________________________________\n",
      "lstm_2 (LSTM)                (None, 50, 100)           120400    \n",
      "_________________________________________________________________\n",
      "lstm_3 (LSTM)                (None, 200)               240800    \n",
      "_________________________________________________________________\n",
      "dropout (Dropout)            (None, 200)               0         \n",
      "_________________________________________________________________\n",
      "dense_2 (Dense)              (None, 1)                 201       \n",
      "=================================================================\n",
      "Total params: 4,497,601\n",
      "Trainable params: 361,401\n",
      "Non-trainable params: 4,136,200\n",
      "_________________________________________________________________\n"
     ]
    }
   ],
   "source": [
    "model1.summary()\n"
   ]
  },
  {
   "cell_type": "code",
   "execution_count": 51,
   "metadata": {
    "execution": {
     "iopub.execute_input": "2020-11-29T07:50:11.214988Z",
     "iopub.status.busy": "2020-11-29T07:50:11.213704Z",
     "iopub.status.idle": "2020-11-29T07:50:11.219778Z",
     "shell.execute_reply": "2020-11-29T07:50:11.220377Z"
    },
    "papermill": {
     "duration": 2.58036,
     "end_time": "2020-11-29T07:50:11.220527",
     "exception": false,
     "start_time": "2020-11-29T07:50:08.640167",
     "status": "completed"
    },
    "tags": []
   },
   "outputs": [],
   "source": [
    "model1.compile(\n",
    "  loss='binary_crossentropy',\n",
    "  optimizer='adam',\n",
    "  metrics=['accuracy'],\n",
    ")\n"
   ]
  },
  {
   "cell_type": "code",
   "execution_count": 52,
   "metadata": {
    "execution": {
     "iopub.execute_input": "2020-11-29T07:50:16.380432Z",
     "iopub.status.busy": "2020-11-29T07:50:16.379409Z",
     "iopub.status.idle": "2020-11-29T07:51:57.764518Z",
     "shell.execute_reply": "2020-11-29T07:51:57.763830Z"
    },
    "papermill": {
     "duration": 103.951562,
     "end_time": "2020-11-29T07:51:57.764653",
     "exception": false,
     "start_time": "2020-11-29T07:50:13.813091",
     "status": "completed"
    },
    "tags": []
   },
   "outputs": [
    {
     "name": "stdout",
     "output_type": "stream",
     "text": [
      "Epoch 1/10\n",
      "81/81 [==============================] - 10s 127ms/step - loss: 0.5269 - accuracy: 0.7544 - val_loss: 0.4255 - val_accuracy: 0.8162\n",
      "Epoch 2/10\n",
      "81/81 [==============================] - 9s 117ms/step - loss: 0.4493 - accuracy: 0.8078 - val_loss: 0.4198 - val_accuracy: 0.8309\n",
      "Epoch 3/10\n",
      "81/81 [==============================] - 9s 117ms/step - loss: 0.4427 - accuracy: 0.8221 - val_loss: 0.4668 - val_accuracy: 0.7668\n",
      "Epoch 4/10\n",
      "81/81 [==============================] - 9s 115ms/step - loss: 0.4294 - accuracy: 0.8190 - val_loss: 0.4160 - val_accuracy: 0.8147\n",
      "Epoch 5/10\n",
      "81/81 [==============================] - 9s 116ms/step - loss: 0.4077 - accuracy: 0.8352 - val_loss: 0.4271 - val_accuracy: 0.8201\n",
      "Epoch 6/10\n",
      "81/81 [==============================] - 10s 120ms/step - loss: 0.3778 - accuracy: 0.8481 - val_loss: 0.4402 - val_accuracy: 0.8201\n",
      "Epoch 7/10\n",
      "81/81 [==============================] - 9s 117ms/step - loss: 0.3720 - accuracy: 0.8514 - val_loss: 0.4197 - val_accuracy: 0.8247\n",
      "Epoch 8/10\n",
      "81/81 [==============================] - 10s 119ms/step - loss: 0.3360 - accuracy: 0.8679 - val_loss: 0.5038 - val_accuracy: 0.8085\n",
      "Epoch 9/10\n",
      "81/81 [==============================] - 10s 122ms/step - loss: 0.3138 - accuracy: 0.8787 - val_loss: 0.4704 - val_accuracy: 0.8201\n",
      "Epoch 10/10\n",
      "81/81 [==============================] - 10s 120ms/step - loss: 0.2938 - accuracy: 0.8866 - val_loss: 0.4933 - val_accuracy: 0.8100\n"
     ]
    }
   ],
   "source": [
    "history1 = model1.fit(X_train,y_train,\n",
    "                    batch_size=64,\n",
    "                    epochs=10,\n",
    "                    validation_split=0.2\n",
    ")"
   ]
  },
  {
   "cell_type": "code",
   "execution_count": 53,
   "metadata": {
    "execution": {
     "iopub.execute_input": "2020-11-29T07:52:03.614180Z",
     "iopub.status.busy": "2020-11-29T07:52:03.613269Z",
     "iopub.status.idle": "2020-11-29T07:52:03.797750Z",
     "shell.execute_reply": "2020-11-29T07:52:03.797000Z"
    },
    "papermill": {
     "duration": 3.090917,
     "end_time": "2020-11-29T07:52:03.797869",
     "exception": false,
     "start_time": "2020-11-29T07:52:00.706952",
     "status": "completed"
    },
    "tags": []
   },
   "outputs": [
    {
     "data": {
      "image/png": "[encoded data removed]",
      "text/plain": [
       "<Figure size 720x432 with 1 Axes>"
      ]
     },
     "metadata": {},
     "output_type": "display_data"
    }
   ],
   "source": [
    "plt.figure(figsize=(10,6))\n",
    "plt.plot(history1.history['accuracy'], label='train')\n",
    "plt.plot(history1.history['val_accuracy'], label='test')\n",
    "plt.legend()\n",
    "plt.grid()\n",
    "plt.show()"
   ]
  },
  {
   "cell_type": "code",
   "execution_count": 54,
   "metadata": {
    "execution": {
     "iopub.execute_input": "2020-11-29T07:52:09.613326Z",
     "iopub.status.busy": "2020-11-29T07:52:09.611702Z",
     "iopub.status.idle": "2020-11-29T07:52:10.203400Z",
     "shell.execute_reply": "2020-11-29T07:52:10.202441Z"
    },
    "papermill": {
     "duration": 3.527492,
     "end_time": "2020-11-29T07:52:10.203581",
     "exception": false,
     "start_time": "2020-11-29T07:52:06.676089",
     "status": "completed"
    },
    "tags": []
   },
   "outputs": [],
   "source": [
    "model2 = keras.models.Sequential([\n",
    "    keras.layers.Embedding(input_dim=num_words,output_dim=200,embeddings_initializer=Constant(embedding_matrix),input_length=MAX_LEN,trainable=False),\n",
    "    keras.layers.GRU(100,return_sequences=True),\n",
    "    keras.layers.GRU(200),\n",
    "    keras.layers.Dropout(0.5),\n",
    "    keras.layers.Dense(1,activation='sigmoid')\n",
    "])"
   ]
  },
  {
   "cell_type": "code",
   "execution_count": 55,
   "metadata": {
    "execution": {
     "iopub.execute_input": "2020-11-29T07:52:16.602392Z",
     "iopub.status.busy": "2020-11-29T07:52:16.601461Z",
     "iopub.status.idle": "2020-11-29T07:52:16.607179Z",
     "shell.execute_reply": "2020-11-29T07:52:16.605083Z"
    },
    "papermill": {
     "duration": 2.99804,
     "end_time": "2020-11-29T07:52:16.607350",
     "exception": false,
     "start_time": "2020-11-29T07:52:13.609310",
     "status": "completed"
    },
    "tags": []
   },
   "outputs": [
    {
     "name": "stdout",
     "output_type": "stream",
     "text": [
      "Model: \"sequential_3\"\n",
      "_________________________________________________________________\n",
      "Layer (type)                 Output Shape              Param #   \n",
      "=================================================================\n",
      "embedding_3 (Embedding)      (None, 50, 200)           4136200   \n",
      "_________________________________________________________________\n",
      "gru (GRU)                    (None, 50, 100)           90600     \n",
      "_________________________________________________________________\n",
      "gru_1 (GRU)                  (None, 200)               181200    \n",
      "_________________________________________________________________\n",
      "dropout_1 (Dropout)          (None, 200)               0         \n",
      "_________________________________________________________________\n",
      "dense_3 (Dense)              (None, 1)                 201       \n",
      "=================================================================\n",
      "Total params: 4,408,201\n",
      "Trainable params: 272,001\n",
      "Non-trainable params: 4,136,200\n",
      "_________________________________________________________________\n"
     ]
    }
   ],
   "source": [
    "model2.summary()\n"
   ]
  },
  {
   "cell_type": "code",
   "execution_count": 56,
   "metadata": {
    "execution": {
     "iopub.execute_input": "2020-11-29T07:52:22.552391Z",
     "iopub.status.busy": "2020-11-29T07:52:22.551243Z",
     "iopub.status.idle": "2020-11-29T07:52:22.558658Z",
     "shell.execute_reply": "2020-11-29T07:52:22.557909Z"
    },
    "papermill": {
     "duration": 2.949593,
     "end_time": "2020-11-29T07:52:22.558778",
     "exception": false,
     "start_time": "2020-11-29T07:52:19.609185",
     "status": "completed"
    },
    "tags": []
   },
   "outputs": [],
   "source": [
    "model2.compile(\n",
    "  loss='binary_crossentropy',\n",
    "  optimizer='adam',\n",
    "  metrics=['accuracy'],\n",
    ")\n"
   ]
  },
  {
   "cell_type": "code",
   "execution_count": 57,
   "metadata": {
    "execution": {
     "iopub.execute_input": "2020-11-29T07:52:28.562330Z",
     "iopub.status.busy": "2020-11-29T07:52:28.561384Z",
     "iopub.status.idle": "2020-11-29T07:53:53.353064Z",
     "shell.execute_reply": "2020-11-29T07:53:53.352131Z"
    },
    "papermill": {
     "duration": 87.855412,
     "end_time": "2020-11-29T07:53:53.353390",
     "exception": false,
     "start_time": "2020-11-29T07:52:25.497978",
     "status": "completed"
    },
    "tags": []
   },
   "outputs": [
    {
     "name": "stdout",
     "output_type": "stream",
     "text": [
      "Epoch 1/10\n",
      "81/81 [==============================] - 9s 109ms/step - loss: 0.6846 - accuracy: 0.5699 - val_loss: 0.6795 - val_accuracy: 0.5830\n",
      "Epoch 2/10\n",
      "81/81 [==============================] - 8s 98ms/step - loss: 0.6851 - accuracy: 0.5699 - val_loss: 0.6813 - val_accuracy: 0.5830\n",
      "Epoch 3/10\n",
      "81/81 [==============================] - 8s 99ms/step - loss: 0.6846 - accuracy: 0.5699 - val_loss: 0.6813 - val_accuracy: 0.5830\n",
      "Epoch 4/10\n",
      "81/81 [==============================] - 8s 99ms/step - loss: 0.6844 - accuracy: 0.5699 - val_loss: 0.6795 - val_accuracy: 0.5830\n",
      "Epoch 5/10\n",
      "81/81 [==============================] - 8s 100ms/step - loss: 0.6840 - accuracy: 0.5699 - val_loss: 0.6815 - val_accuracy: 0.5830\n",
      "Epoch 6/10\n",
      "81/81 [==============================] - 8s 102ms/step - loss: 0.6843 - accuracy: 0.5699 - val_loss: 0.6793 - val_accuracy: 0.5830\n",
      "Epoch 7/10\n",
      "81/81 [==============================] - 8s 98ms/step - loss: 0.6844 - accuracy: 0.5699 - val_loss: 0.6793 - val_accuracy: 0.5830\n",
      "Epoch 8/10\n",
      "81/81 [==============================] - 8s 97ms/step - loss: 0.6843 - accuracy: 0.5699 - val_loss: 0.6793 - val_accuracy: 0.5830\n",
      "Epoch 9/10\n",
      "81/81 [==============================] - 8s 97ms/step - loss: 0.6839 - accuracy: 0.5699 - val_loss: 0.6793 - val_accuracy: 0.5830\n",
      "Epoch 10/10\n",
      "81/81 [==============================] - 8s 97ms/step - loss: 0.6847 - accuracy: 0.5699 - val_loss: 0.6800 - val_accuracy: 0.5830\n"
     ]
    }
   ],
   "source": [
    "history2 = model2.fit(X_train,y_train,\n",
    "                    batch_size=64,\n",
    "                    epochs=10,\n",
    "                    validation_split=0.2\n",
    ")"
   ]
  },
  {
   "cell_type": "markdown",
   "metadata": {
    "papermill": {
     "duration": 3.198747,
     "end_time": "2020-11-29T07:53:59.819495",
     "exception": false,
     "start_time": "2020-11-29T07:53:56.620748",
     "status": "completed"
    },
    "tags": []
   },
   "source": [
    "## Making Submission"
   ]
  },
  {
   "cell_type": "code",
   "execution_count": 58,
   "metadata": {
    "execution": {
     "iopub.execute_input": "2020-11-29T07:54:06.378183Z",
     "iopub.status.busy": "2020-11-29T07:54:06.377414Z",
     "iopub.status.idle": "2020-11-29T07:54:06.385093Z",
     "shell.execute_reply": "2020-11-29T07:54:06.384349Z"
    },
    "papermill": {
     "duration": 3.296913,
     "end_time": "2020-11-29T07:54:06.385218",
     "exception": false,
     "start_time": "2020-11-29T07:54:03.088305",
     "status": "completed"
    },
    "tags": []
   },
   "outputs": [],
   "source": [
    "sample_sub=pd.read_csv('../input/nlp-getting-started/sample_submission.csv')\n"
   ]
  },
  {
   "cell_type": "code",
   "execution_count": 59,
   "metadata": {
    "execution": {
     "iopub.execute_input": "2020-11-29T07:54:12.795175Z",
     "iopub.status.busy": "2020-11-29T07:54:12.794132Z",
     "iopub.status.idle": "2020-11-29T07:54:14.858409Z",
     "shell.execute_reply": "2020-11-29T07:54:14.857605Z"
    },
    "papermill": {
     "duration": 5.275979,
     "end_time": "2020-11-29T07:54:14.858533",
     "exception": false,
     "start_time": "2020-11-29T07:54:09.582554",
     "status": "completed"
    },
    "tags": []
   },
   "outputs": [],
   "source": [
    "y_pre=model.predict(test)\n"
   ]
  },
  {
   "cell_type": "code",
   "execution_count": 60,
   "metadata": {
    "execution": {
     "iopub.execute_input": "2020-11-29T07:54:21.418245Z",
     "iopub.status.busy": "2020-11-29T07:54:21.417434Z",
     "iopub.status.idle": "2020-11-29T07:54:21.421500Z",
     "shell.execute_reply": "2020-11-29T07:54:21.422010Z"
    },
    "papermill": {
     "duration": 3.237572,
     "end_time": "2020-11-29T07:54:21.422186",
     "exception": false,
     "start_time": "2020-11-29T07:54:18.184614",
     "status": "completed"
    },
    "tags": []
   },
   "outputs": [
    {
     "data": {
      "text/plain": [
       "(3264, 1)"
      ]
     },
     "execution_count": 60,
     "metadata": {},
     "output_type": "execute_result"
    }
   ],
   "source": [
    "y_pre.shape"
   ]
  },
  {
   "cell_type": "code",
   "execution_count": null,
   "metadata": {
    "papermill": {
     "duration": 3.359703,
     "end_time": "2020-11-29T07:54:28.057874",
     "exception": false,
     "start_time": "2020-11-29T07:54:24.698171",
     "status": "completed"
    },
    "tags": []
   },
   "outputs": [],
   "source": []
  }
 ],
 "metadata": {
  "kernelspec": {
   "display_name": "Python 3",
   "language": "python",
   "name": "python3"
  },
  "language_info": {
   "codemirror_mode": {
    "name": "ipython",
    "version": 3
   },
   "file_extension": ".py",
   "mimetype": "text/x-python",
   "name": "python",
   "nbconvert_exporter": "python",
   "pygments_lexer": "ipython3",
   "version": "3.7.6"
  },
  "papermill": {
   "duration": 816.715912,
   "end_time": "2020-11-29T07:54:31.390229",
   "environment_variables": {},
   "exception": null,
   "input_path": "__notebook__.ipynb",
   "output_path": "__notebook__.ipynb",
   "parameters": {},
   "start_time": "2020-11-29T07:40:54.674317",
   "version": "2.1.0"
  }
 },
 "nbformat": 4,
 "nbformat_minor": 4
}
